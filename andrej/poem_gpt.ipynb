{
 "cells": [
  {
   "cell_type": "code",
   "execution_count": 18,
   "metadata": {
    "collapsed": true
   },
   "outputs": [],
   "source": [
    "import random\n",
    "import torch\n",
    "import torch.nn.functional as F\n",
    "import matplotlib.pyplot as plt\n",
    "%matplotlib inline"
   ]
  },
  {
   "cell_type": "code",
   "execution_count": 19,
   "outputs": [],
   "source": [
    "import csv\n",
    "\n",
    "text = ''\n",
    "author = []\n",
    "with open('poem.txt', 'r', encoding='utf-8') as file:\n",
    "    text = file.read()\n"
   ],
   "metadata": {
    "collapsed": false
   }
  },
  {
   "cell_type": "code",
   "execution_count": 20,
   "outputs": [
    {
     "data": {
      "text/plain": "529829"
     },
     "execution_count": 20,
     "metadata": {},
     "output_type": "execute_result"
    }
   ],
   "source": [
    "len(text)"
   ],
   "metadata": {
    "collapsed": false
   }
  },
  {
   "cell_type": "code",
   "execution_count": 21,
   "outputs": [
    {
     "name": "stdout",
     "output_type": "stream",
     "text": [
      "يا مَوضِعَ الشَدَنِيَّةِ الوَجناءِ    وَمُصارِعَ الإِدلاجِ وَالإِسراءِأَقري السَلامَ مُعَرَّفاً وَمُحَصِّباً    مِن خالِدِ المَعروفِ وَالهَيجاءِسَيلٌ طَما لَو لَم يَذُدهُ ذائِدٌ    لَتَبَطَّحَت أولاهُ بِالبَطحاءِوَغَدَت بُطونُ مِنى مُنىً مِن سَيبِهِ    وَغَدَت حَرىً مِنهُ ظُهورُ حِراءِوَتَعَرَّفَت عَرَفاتُ زاخِرَهُ وَلَم    يُخصَص كَداءٌ مِنهُ بِالإِكداءِوَلَطابَ مُرتَبَعٌ بِطيبَةَ وَاِكتَسَت    بُردَينِ بُردَ ثَرىً وَبُردَ ثَراءِلا يُحرَمِ الحَرمَانِ خَيراً إِنَّهُم    حُرِموا بِهِ نَوءاً مِنَ الأَنواءِيا سائِلي عَن خالِدٍ وَفَعالِهِ    رِد فَاِغتَرِف عِلماً بِغَيرِ رَشاءِاُنظُر وَإِيّاكَ الهَوى لا تُمكِنَن    سُلطانَهُ مِن مُقلَةٍ شَوساءِتَعلَم كَمِ اِفتَرَعَت صُدورُ رِماحِهِ    وَسُيوفِهِ مِن بَلدَةٍ عَذراءِوَدَعا فَأَسمَعَ بِالأَسِنَّةِ وَاللُهى    صُمَّ العِدى في صَخرَةٍ صَمّاءِبِمَجامِعِ الثَغرَينِ ما يَنفَكُّ مِن    جَيشٍ أَزَبَّ وَغارَةٍ شَعواءِمِن كُلِّ فَرجٍ لِلعَدُوِّ كَأَنَّهُ    فَرجٌ حِمىً إِلّا مِنَ الأَكفاءِقَد كانَ خَطبٌ عاثِرٌ فَأَقالَهُ    رَأيُ الخَليفَةِ كَوكَبُ ال\n"
     ]
    }
   ],
   "source": [
    "print(text[:1000])"
   ],
   "metadata": {
    "collapsed": false
   }
  },
  {
   "cell_type": "code",
   "execution_count": 22,
   "outputs": [
    {
     "name": "stdout",
     "output_type": "stream",
     "text": [
      "{'س', 'ج', 'ذ', 'ت', 'آ', 'ٌ', 'ل', 'ك', 'ض', 'ي', 'َ', 'ّ', 'ة', 'إ', 'ء', 'و', 'ً', 'ظ', 'ؤ', 'ف', 'ُ', 'ِ', 'ق', 'ى', 'ر', 'ح', 'ع', 'م', 'ش', 'ب', 'خ', 'ز', 'ث', 'ٍ', 'ص', 'د', 'ن', 'أ', 'ئ', 'ط', 'ا', 'غ', 'ه', ' '}\n"
     ]
    }
   ],
   "source": [
    "print(set(text))"
   ],
   "metadata": {
    "collapsed": false
   }
  },
  {
   "cell_type": "code",
   "execution_count": 23,
   "outputs": [
    {
     "name": "stdout",
     "output_type": "stream",
     "text": [
      " ءآأؤإئابةتثجحخدذرزسشصضطظعغفقكلمنهوىيًٌٍَُِّ\n",
      "44\n"
     ]
    }
   ],
   "source": [
    "chars = sorted(list(set(text)))\n",
    "vocab_size = len(chars)\n",
    "print(''.join(chars))\n",
    "print(vocab_size)"
   ],
   "metadata": {
    "collapsed": false
   }
  },
  {
   "cell_type": "code",
   "execution_count": 24,
   "outputs": [
    {
     "name": "stdout",
     "output_type": "stream",
     "text": [
      "[29, 36, 27, 0, 7, 30, 7, 14, 8, 7, 17]\n",
      "كيف الأخبار\n"
     ]
    }
   ],
   "source": [
    "# create mapping from characters to integers\n",
    "\n",
    "stoi = {ch:i for i, ch in enumerate(chars)}\n",
    "itos = {i:ch for i, ch in enumerate(stoi)}\n",
    "encode = lambda s: [stoi[c] for c in s]\n",
    "decode = lambda l: ''.join([itos[i] for i in l])\n",
    "\n",
    "print(encode(\"كيف الاخبار\"))\n",
    "print(decode(encode(\"كيف الأخبار\")))\n"
   ],
   "metadata": {
    "collapsed": false
   }
  },
  {
   "cell_type": "code",
   "execution_count": 25,
   "outputs": [
    {
     "name": "stdout",
     "output_type": "stream",
     "text": [
      "torch.Size([529829]) torch.int64\n",
      "tensor([36,  7,  0, 31, 40, 34, 22, 42, 25, 40,  0,  7, 30, 20, 40, 15, 40, 32,\n",
      "        42, 36, 43, 40,  9, 42,  0,  7, 30, 34, 40, 12, 32,  7,  1, 42,  0,  0,\n",
      "         0,  0, 34, 40, 31, 41, 21,  7, 17, 42, 25, 40,  0,  7, 30,  5, 42, 15,\n",
      "        30,  7, 12, 42,  0, 34, 40,  7, 30,  5, 42, 19, 17,  7,  1, 42,  3, 40,\n",
      "        28, 17, 36,  0,  7, 30, 19, 40, 30,  7, 31, 40,  0, 31, 41, 25, 40, 17,\n",
      "        43, 40, 27,  7, 37,  0, 34, 40, 31, 41])\n"
     ]
    }
   ],
   "source": [
    "data = torch.tensor(encode(text), dtype=torch.long)\n",
    "print(data.shape, data.dtype)\n",
    "print(data[:100])"
   ],
   "metadata": {
    "collapsed": false
   }
  },
  {
   "cell_type": "code",
   "execution_count": 26,
   "outputs": [],
   "source": [
    "n = int(0.9*len(data))\n",
    "train_data = data[:n]\n",
    "val_data = data[n:]"
   ],
   "metadata": {
    "collapsed": false
   }
  },
  {
   "cell_type": "code",
   "execution_count": 27,
   "outputs": [
    {
     "data": {
      "text/plain": "tensor([36,  7,  0, 31, 40, 34, 22, 42, 25])"
     },
     "execution_count": 27,
     "metadata": {},
     "output_type": "execute_result"
    }
   ],
   "source": [
    "block_size = 8\n",
    "train_data[:block_size+1]"
   ],
   "metadata": {
    "collapsed": false
   }
  },
  {
   "cell_type": "code",
   "execution_count": 28,
   "outputs": [
    {
     "name": "stdout",
     "output_type": "stream",
     "text": [
      "when the input is tensor([36]) the target: 7\n",
      "when the input is tensor([36,  7]) the target: 0\n",
      "when the input is tensor([36,  7,  0]) the target: 31\n",
      "when the input is tensor([36,  7,  0, 31]) the target: 40\n",
      "when the input is tensor([36,  7,  0, 31, 40]) the target: 34\n",
      "when the input is tensor([36,  7,  0, 31, 40, 34]) the target: 22\n",
      "when the input is tensor([36,  7,  0, 31, 40, 34, 22]) the target: 42\n",
      "when the input is tensor([36,  7,  0, 31, 40, 34, 22, 42]) the target: 25\n"
     ]
    }
   ],
   "source": [
    "x = train_data[:block_size]\n",
    "y = train_data[1:block_size+1]\n",
    "for t in range(block_size):\n",
    "    context = x[:t+1]\n",
    "    target = y[t]\n",
    "    print(f\"when the input is {context} the target: {target}\")"
   ],
   "metadata": {
    "collapsed": false
   }
  },
  {
   "cell_type": "code",
   "execution_count": 29,
   "outputs": [
    {
     "name": "stdout",
     "output_type": "stream",
     "text": [
      "inputs:\n",
      "torch.Size([4, 8])\n",
      "tensor([[41, 25,  7, 34, 42, 15, 41, 33],\n",
      "        [30, 42, 30, 43, 40, 33, 42,  0],\n",
      "        [36, 17, 39,  0,  0,  0,  0, 34],\n",
      "        [ 7, 34, 40,  5, 42, 16,  7,  0]])\n",
      "target:\n",
      "torch.Size([4, 8])\n",
      "tensor([[25,  7, 34, 42, 15, 41, 33, 41],\n",
      "        [42, 30, 43, 40, 33, 42,  0,  3],\n",
      "        [17, 39,  0,  0,  0,  0, 34, 40],\n",
      "        [34, 40,  5, 42, 16,  7,  0, 29]])\n"
     ]
    }
   ],
   "source": [
    "torch.manual_seed(1996)\n",
    "batch_size = 4\n",
    "block_size = 8\n",
    "\n",
    "def get_batch(split):\n",
    "    #generate a small batch of data of input x and target y\n",
    "    data = train_data if split == 'train' else val_data\n",
    "    ix = torch.randint(len(data) - block_size, (batch_size,))\n",
    "    x = torch.stack([data[i:i+block_size] for i in ix])\n",
    "    y = torch.stack([data[i+1:i+block_size+1] for i in ix])\n",
    "    return x, y\n",
    "\n",
    "xb, yb = get_batch('train')\n",
    "print('inputs:')\n",
    "print(xb.shape)\n",
    "print(xb)\n",
    "print('target:')\n",
    "print(yb.shape)\n",
    "print(yb)"
   ],
   "metadata": {
    "collapsed": false
   }
  },
  {
   "cell_type": "code",
   "execution_count": 30,
   "outputs": [
    {
     "name": "stdout",
     "output_type": "stream",
     "text": [
      "3.94657826423645\n"
     ]
    }
   ],
   "source": [
    "import torch.nn as nn\n",
    "from torch.nn import functional as F\n",
    "torch.manual_seed(1996)\n",
    "\n",
    "class BiagramLanguageModel(nn.Module):\n",
    "\n",
    "    def __init__(self, vocab_size):\n",
    "        super().__init__()\n",
    "        self.token_embedding_table = nn.Embedding(vocab_size, vocab_size)\n",
    "\n",
    "    def forward(self, idx, targets=None):\n",
    "        logits = self.token_embedding_table(idx)\n",
    "        if targets == None:\n",
    "            loss = None\n",
    "        else:\n",
    "            B, T, C = logits.shape\n",
    "            logits = logits.view(B*T, C)\n",
    "            targets = targets.view(B*T)\n",
    "            loss = F.cross_entropy(logits, targets)\n",
    "\n",
    "        return logits, loss\n",
    "\n",
    "    def generate(self, idx, max_new_tokens):\n",
    "        for _ in range(max_new_tokens):\n",
    "            logits, loss = self(idx)\n",
    "            logits = logits[:, -1, :]\n",
    "            probs = F.softmax(logits, dim=1)\n",
    "            idx_next = torch.multinomial(probs, num_samples=1)\n",
    "            idx = torch.cat((idx, idx_next), dim=1)\n",
    "        return(idx)\n",
    "\n",
    "m = BiagramLanguageModel(vocab_size)\n",
    "logits, loss = m(xb, yb)\n",
    "print(loss.item())"
   ],
   "metadata": {
    "collapsed": false
   }
  },
  {
   "cell_type": "code",
   "execution_count": 31,
   "outputs": [
    {
     "name": "stdout",
     "output_type": "stream",
     "text": [
      " هاازَبفظر ئيُوصثهٌءصظشًٌءحيزقلوّعٌءبهفشي رفمخنآآغإرِخ ِشثقهٌيمطٌراثثّدؤغ وضةةئيِنكئنبهّزىآلٍؤذًثآءدو\n"
     ]
    }
   ],
   "source": [
    "print(decode(m.generate(idx = torch.zeros((1, 1), dtype=torch.long), max_new_tokens=100)[0].tolist()))"
   ],
   "metadata": {
    "collapsed": false
   }
  },
  {
   "cell_type": "code",
   "execution_count": 32,
   "outputs": [],
   "source": [
    "optimizer = torch.optim.AdamW(m.parameters(), lr=1e-4)"
   ],
   "metadata": {
    "collapsed": false
   }
  },
  {
   "cell_type": "code",
   "execution_count": 48,
   "outputs": [
    {
     "name": "stdout",
     "output_type": "stream",
     "text": [
      "2.5069408416748047\n"
     ]
    }
   ],
   "source": [
    "batch_size = 32\n",
    "lossi = []\n",
    "for steps in range(10000):\n",
    "    xb, yb = get_batch('train')\n",
    "\n",
    "    logits, loss = m(xb, yb)\n",
    "    optimizer.zero_grad(set_to_none=True)\n",
    "    loss.backward()\n",
    "    optimizer.step()\n",
    "    lossi.append(loss.item())\n",
    "print(loss.item())"
   ],
   "metadata": {
    "collapsed": false
   }
  },
  {
   "cell_type": "code",
   "execution_count": 47,
   "outputs": [
    {
     "name": "stdout",
     "output_type": "stream",
     "text": [
      " خد نثلت ألطَلُطٍ كتَ   كمِفَعَن  صالِيرٌ شَهُ رَمُسّيِندِ يَّفي اجا لاها باِكَمَّبُ  فالَهُ قِلَ صَ \n"
     ]
    }
   ],
   "source": [
    "print(decode(m.generate(idx = torch.zeros((1, 1), dtype=torch.long), max_new_tokens=100)[0].tolist()))"
   ],
   "metadata": {
    "collapsed": false
   }
  },
  {
   "cell_type": "code",
   "execution_count": 49,
   "outputs": [
    {
     "data": {
      "text/plain": "[<matplotlib.lines.Line2D at 0x7fd69919c910>]"
     },
     "execution_count": 49,
     "metadata": {},
     "output_type": "execute_result"
    },
    {
     "data": {
      "text/plain": "<Figure size 640x480 with 1 Axes>",
      "image/png": "[encoded data removed]"
     },
     "metadata": {},
     "output_type": "display_data"
    }
   ],
   "source": [
    "plt.plot(lossi)"
   ],
   "metadata": {
    "collapsed": false
   }
  },
  {
   "cell_type": "code",
   "execution_count": null,
   "outputs": [],
   "source": [],
   "metadata": {
    "collapsed": false
   }
  }
 ],
 "metadata": {
  "kernelspec": {
   "display_name": "Python 3",
   "language": "python",
   "name": "python3"
  },
  "language_info": {
   "codemirror_mode": {
    "name": "ipython",
    "version": 2
   },
   "file_extension": ".py",
   "mimetype": "text/x-python",
   "name": "python",
   "nbconvert_exporter": "python",
   "pygments_lexer": "ipython2",
   "version": "2.7.6"
  }
 },
 "nbformat": 4,
 "nbformat_minor": 0
}
