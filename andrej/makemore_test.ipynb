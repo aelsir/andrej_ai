{
 "cells": [
  {
   "cell_type": "code",
   "execution_count": 136,
   "outputs": [],
   "source": [
    "import random\n",
    "import torch\n",
    "import torch.nn.functional as F\n",
    "import matplotlib.pyplot as plt\n",
    "%matplotlib inline"
   ],
   "metadata": {
    "collapsed": false
   }
  },
  {
   "cell_type": "code",
   "execution_count": 10,
   "metadata": {
    "collapsed": true
   },
   "outputs": [
    {
     "name": "stdout",
     "output_type": "stream",
     "text": [
      "The length of names is 1405\n",
      "The first 5 names are ['ابتسام', 'ابتهاج', 'ابتهال', 'اجتهاد', 'ازدهار']\n"
     ]
    }
   ],
   "source": [
    "# reading the data into variable called name\n",
    "import csv\n",
    "\n",
    "names = []\n",
    "with open('arabic_names.csv', 'r') as file:\n",
    "    csv_reader = csv.reader(file)\n",
    "    for row in csv_reader:\n",
    "        names.append(row[0])\n",
    "\n",
    "names.pop(0)\n",
    "print(f\"The length of names is {len(names)}\")\n",
    "print(f\"The first 5 names are {names[:5]}\")"
   ]
  },
  {
   "cell_type": "code",
   "execution_count": 11,
   "outputs": [
    {
     "name": "stdout",
     "output_type": "stream",
     "text": [
      "the data set have 1405, n1=1124, n2=1264\n"
     ]
    }
   ],
   "source": [
    "# Randomizing the data set\n",
    "random.seed(56)\n",
    "random.shuffle(names)\n",
    "\n",
    "n1 = int(0.8 * len(names))\n",
    "n2 = int(0.9 * len(names))\n",
    "print(f\"the data set have {len(names)}, {n1=}, {n2=}\")"
   ],
   "metadata": {
    "collapsed": false
   }
  },
  {
   "cell_type": "code",
   "execution_count": 12,
   "outputs": [],
   "source": [
    "# converting characters to number\n",
    "chars = sorted(list(set(''.join(names))))\n",
    "chars.insert(0, '.')\n",
    "\n",
    "# create character to integer\n",
    "ctoi = {value: index for index, value in enumerate(chars)}\n",
    "\n",
    "# create integer to character\n",
    "itoc = {value: index for index, value in ctoi.items()}"
   ],
   "metadata": {
    "collapsed": false
   }
  },
  {
   "cell_type": "code",
   "execution_count": 13,
   "outputs": [
    {
     "data": {
      "text/plain": "{'.': 0,\n ' ': 1,\n 'ء': 2,\n 'آ': 3,\n 'أ': 4,\n 'ؤ': 5,\n 'إ': 6,\n 'ئ': 7,\n 'ا': 8,\n 'ب': 9,\n 'ة': 10,\n 'ت': 11,\n 'ث': 12,\n 'ج': 13,\n 'ح': 14,\n 'خ': 15,\n 'د': 16,\n 'ذ': 17,\n 'ر': 18,\n 'ز': 19,\n 'س': 20,\n 'ش': 21,\n 'ص': 22,\n 'ض': 23,\n 'ط': 24,\n 'ظ': 25,\n 'ع': 26,\n 'غ': 27,\n 'ف': 28,\n 'ق': 29,\n 'ك': 30,\n 'ل': 31,\n 'م': 32,\n 'ن': 33,\n 'ه': 34,\n 'و': 35,\n 'ى': 36,\n 'ي': 37}"
     },
     "execution_count": 13,
     "metadata": {},
     "output_type": "execute_result"
    }
   ],
   "source": [
    "ctoi"
   ],
   "metadata": {
    "collapsed": false
   }
  },
  {
   "cell_type": "code",
   "execution_count": 14,
   "outputs": [],
   "source": [
    "# preparing the dataset and split them into training, dev, and test samples.\n",
    "# we need the first one to be ., ., . --> ا\n",
    "\n",
    "# define a function build_dataset to accept list of names and output them in X, Y format\n",
    "\n",
    "def build_dataset(names):\n",
    "    X, Y = [], []\n",
    "    block_size = 3\n",
    "\n",
    "    for name in names:\n",
    "        context = [0] * block_size\n",
    "\n",
    "        for cha in name + '.':\n",
    "            X.append(context)\n",
    "            ix = ctoi[cha]\n",
    "            Y.append(ix)\n",
    "            context = context[1:] + [ix]\n",
    "\n",
    "    X = torch.tensor(X)\n",
    "    Y = torch.tensor(Y)\n",
    "\n",
    "\n",
    "    return X, Y\n",
    "\n"
   ],
   "metadata": {
    "collapsed": false
   }
  },
  {
   "cell_type": "code",
   "execution_count": 15,
   "outputs": [],
   "source": [
    "Xtr, Ytr = build_dataset(names[:n1])\n",
    "Xdev, Ydev = build_dataset(names[n1:n2])\n",
    "Xtest , Ytest = build_dataset(names[n2:])"
   ],
   "metadata": {
    "collapsed": false
   }
  },
  {
   "cell_type": "code",
   "execution_count": 16,
   "outputs": [
    {
     "name": "stdout",
     "output_type": "stream",
     "text": [
      "Xtr.shape=torch.Size([6135, 3]) Ytr.shape=torch.Size([6135]), and Xdev.shape=torch.Size([750, 3]), and Xtest.shape=torch.Size([761, 3])\n"
     ]
    }
   ],
   "source": [
    "print(f\"{Xtr.shape=} {Ytr.shape=}, and {Xdev.shape=}, and {Xtest.shape=}\")"
   ],
   "metadata": {
    "collapsed": false
   }
  },
  {
   "cell_type": "code",
   "execution_count": 149,
   "outputs": [],
   "source": [
    "# define a gnerator\n",
    "g = torch.Generator().manual_seed(123456789)\n",
    "\n",
    "n_emb = 10  # The dimentions of the embedding space\n",
    "n_hidden = 10 # number of neurones in the hidden layer\n",
    "# creating the embedded layer to embed our 38 character in 2D arrya and the first layer\n",
    "len(chars) # == 38\n",
    "C = torch.randn((len(chars), 2))\n",
    "# Creating the hidden layer\n",
    "W1 = torch.randn((6, 100))\n",
    "b1 = torch.randn(100)\n",
    "\n",
    "W2 = torch.randn((100, 38))\n",
    "b2 = torch.randn(38)\n",
    "\n",
    "parameters = [C, W1, W2, b1, b2]"
   ],
   "metadata": {
    "collapsed": false
   }
  },
  {
   "cell_type": "code",
   "execution_count": 150,
   "outputs": [],
   "source": [
    "for p in parameters:\n",
    "    p.requires_grad = True"
   ],
   "metadata": {
    "collapsed": false
   }
  },
  {
   "cell_type": "code",
   "execution_count": 170,
   "outputs": [
    {
     "name": "stdout",
     "output_type": "stream",
     "text": [
      "tensor(1.9966, grad_fn=<NllLossBackward0>)\n"
     ]
    }
   ],
   "source": [
    "for _ in range(5000):\n",
    "    # making mini-patches\n",
    "    random_numbers = torch.randint(0, Xtr.shape[0], (100,))\n",
    "\n",
    "    # forward pass\n",
    "    emb = C[Xtr[random_numbers]]  # we're impeding the char in 2D array =>\n",
    "    # print(f\"The embed shape is {emb.shape=}\") # (number of rows in X, number of columns in X, the crosponding vector from C to this number)\n",
    "    h = torch.tanh(emb.view(-1, 6) @ W1 + b1)\n",
    "    # print(f\"The hidden layer shape is {h.shape=}\")\n",
    "    logits = h @ W2 + b2\n",
    "    # print(f\"The Logits layer shape is {logits.shape=}, and Y shape is {Ysmall.shape=}\")\n",
    "    loss = F.cross_entropy(logits, Ytr[random_numbers])\n",
    "\n",
    "    # backward pass\n",
    "    for p in parameters:\n",
    "        p.grad = None\n",
    "    loss.backward()\n",
    "\n",
    "\n",
    "    # update\n",
    "    for p in parameters:\n",
    "        p.data += -0.05 * p.grad\n",
    "\n",
    "print(loss)"
   ],
   "metadata": {
    "collapsed": false
   }
  },
  {
   "cell_type": "code",
   "execution_count": 172,
   "outputs": [
    {
     "name": "stdout",
     "output_type": "stream",
     "text": [
      "The total lost is loss=tensor(2.5023, grad_fn=<NllLossBackward0>)\n"
     ]
    }
   ],
   "source": [
    "# calculate the loss in the entire dataset\n",
    "\n",
    "emb = C[Xdev]\n",
    "h = torch.tanh(emb.view(-1, 6) @ W1 + b1)\n",
    "logits = h @ W2 + b2\n",
    "loss = F.cross_entropy(logits, Ydev)\n",
    "print(f\"The total lost is {loss=}\")"
   ],
   "metadata": {
    "collapsed": false
   }
  },
  {
   "cell_type": "code",
   "execution_count": 175,
   "outputs": [
    {
     "name": "stdout",
     "output_type": "stream",
     "text": [
      "The total lost is loss=tensor(2.5869, grad_fn=<NllLossBackward0>)\n"
     ]
    }
   ],
   "source": [
    "emb = C[Xtest]\n",
    "h = torch.tanh(emb.view(-1, 6) @ W1 + b1)\n",
    "logits = h @ W2 + b2\n",
    "loss = F.cross_entropy(logits, Ytext)\n",
    "print(f\"The total lost is {loss=}\")"
   ],
   "metadata": {
    "collapsed": false
   }
  },
  {
   "cell_type": "code",
   "execution_count": 176,
   "outputs": [
    {
     "data": {
      "text/plain": "<Figure size 800x800 with 1 Axes>",
      "image/png": "[encoded data removed]"
     },
     "metadata": {},
     "output_type": "display_data"
    }
   ],
   "source": [
    "# visualize dimensions 0 and 1 of the embedding matrix C for all characters\n",
    "plt.figure(figsize=(8,8))\n",
    "plt.scatter(C[:,0].data, C[:,1].data, s=200)\n",
    "for i in range(C.shape[0]):\n",
    "    plt.text(C[i,0].item(), C[i,1].item(), itoc[i], ha=\"center\", va=\"center\", color='white')\n",
    "plt.grid('minor')"
   ],
   "metadata": {
    "collapsed": false
   }
  },
  {
   "cell_type": "code",
   "execution_count": 177,
   "outputs": [
    {
     "name": "stdout",
     "output_type": "stream",
     "text": [
      "شدة.\n",
      "عقيد.\n",
      "باف.\n",
      "تدع.\n",
      "جهيمى.\n",
      "تور.\n",
      "تضيم.\n",
      "عبدالحنيسة.\n",
      "يند.\n",
      "يبدالوهي.\n",
      "ميمة.\n",
      "لين.\n",
      "عد.\n",
      "كزيح.\n",
      "عبدالب.\n",
      "بضير.\n",
      "توهاب.\n",
      "أوضبة.\n",
      "فدصلم.\n",
      "كلأ.\n"
     ]
    }
   ],
   "source": [
    "# ٍSampling from the model\n",
    "for _ in range(10):\n",
    "    block_size = 3\n",
    "    context = [0] * block_size\n",
    "    out = []\n",
    "\n",
    "    while True:\n",
    "        emb = C[context]\n",
    "        h = torch.tanh(emb.view(-1, 6) @ W1 + b1)\n",
    "        logits = h @ W2 + b2\n",
    "        probs = F.softmax(logits, dim=1)\n",
    "        ix = torch.multinomial(probs, num_samples=1, generator=g).item()\n",
    "        out.append(ix)\n",
    "        context = context[1:] + [ix]\n",
    "        if ix == 0:\n",
    "            break;\n",
    "\n",
    "    print(\"\".join(itoc[i] for i in out))"
   ],
   "metadata": {
    "collapsed": false
   }
  }
 ],
 "metadata": {
  "kernelspec": {
   "display_name": "Python 3",
   "language": "python",
   "name": "python3"
  },
  "language_info": {
   "codemirror_mode": {
    "name": "ipython",
    "version": 2
   },
   "file_extension": ".py",
   "mimetype": "text/x-python",
   "name": "python",
   "nbconvert_exporter": "python",
   "pygments_lexer": "ipython2",
   "version": "2.7.6"
  }
 },
 "nbformat": 4,
 "nbformat_minor": 0
}
