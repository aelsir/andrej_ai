{
 "cells": [
  {
   "cell_type": "code",
   "execution_count": 25,
   "outputs": [],
   "source": [
    "import random\n",
    "import torch\n",
    "import torch.nn.functional as F\n",
    "import matplotlib.pyplot as plt\n",
    "%matplotlib inline"
   ],
   "metadata": {
    "collapsed": false
   }
  },
  {
   "cell_type": "code",
   "execution_count": 26,
   "metadata": {
    "collapsed": true
   },
   "outputs": [
    {
     "name": "stdout",
     "output_type": "stream",
     "text": [
      "The length of names is 1405\n",
      "The first 5 names are ['ابتسام', 'ابتهاج', 'ابتهال', 'اجتهاد', 'ازدهار']\n"
     ]
    }
   ],
   "source": [
    "# reading the data into variable called name\n",
    "import csv\n",
    "\n",
    "names = []\n",
    "with open('arabic_names.csv', 'r') as file:\n",
    "    csv_reader = csv.reader(file)\n",
    "    for row in csv_reader:\n",
    "        names.append(row[0])\n",
    "\n",
    "names.pop(0)\n",
    "print(f\"The length of names is {len(names)}\")\n",
    "print(f\"The first 5 names are {names[:5]}\")"
   ]
  },
  {
   "cell_type": "code",
   "execution_count": 27,
   "outputs": [
    {
     "name": "stdout",
     "output_type": "stream",
     "text": [
      "the data set have 1405, n1=1124, n2=1264\n"
     ]
    }
   ],
   "source": [
    "# Randomizing the data set\n",
    "random.seed(56)\n",
    "random.shuffle(names)\n",
    "\n",
    "n1 = int(0.8 * len(names))\n",
    "n2 = int(0.9 * len(names))\n",
    "print(f\"the data set have {len(names)}, {n1=}, {n2=}\")"
   ],
   "metadata": {
    "collapsed": false
   }
  },
  {
   "cell_type": "code",
   "execution_count": 28,
   "outputs": [],
   "source": [
    "# converting characters to number\n",
    "chars = sorted(list(set(''.join(names))))\n",
    "chars.insert(0, '.')\n",
    "\n",
    "# create character to integer\n",
    "ctoi = {value: index for index, value in enumerate(chars)}\n",
    "\n",
    "# create integer to character\n",
    "itoc = {value: index for index, value in ctoi.items()}"
   ],
   "metadata": {
    "collapsed": false
   }
  },
  {
   "cell_type": "code",
   "execution_count": 29,
   "outputs": [
    {
     "data": {
      "text/plain": "{'.': 0,\n ' ': 1,\n 'ء': 2,\n 'آ': 3,\n 'أ': 4,\n 'ؤ': 5,\n 'إ': 6,\n 'ئ': 7,\n 'ا': 8,\n 'ب': 9,\n 'ة': 10,\n 'ت': 11,\n 'ث': 12,\n 'ج': 13,\n 'ح': 14,\n 'خ': 15,\n 'د': 16,\n 'ذ': 17,\n 'ر': 18,\n 'ز': 19,\n 'س': 20,\n 'ش': 21,\n 'ص': 22,\n 'ض': 23,\n 'ط': 24,\n 'ظ': 25,\n 'ع': 26,\n 'غ': 27,\n 'ف': 28,\n 'ق': 29,\n 'ك': 30,\n 'ل': 31,\n 'م': 32,\n 'ن': 33,\n 'ه': 34,\n 'و': 35,\n 'ى': 36,\n 'ي': 37}"
     },
     "execution_count": 29,
     "metadata": {},
     "output_type": "execute_result"
    }
   ],
   "source": [
    "ctoi"
   ],
   "metadata": {
    "collapsed": false
   }
  },
  {
   "cell_type": "code",
   "execution_count": 30,
   "outputs": [],
   "source": [
    "# preparing the dataset and split them into training, dev, and test samples.\n",
    "# we need the first one to be ., ., . --> ا\n",
    "\n",
    "# define a function build_dataset to accept list of names and output them in X, Y format\n",
    "block_size = 3\n",
    "\n",
    "\n",
    "def build_dataset(names):\n",
    "    X, Y = [], []\n",
    "    for name in names:\n",
    "        context = [0] * block_size\n",
    "\n",
    "        for cha in name + '.':\n",
    "            X.append(context)\n",
    "            ix = ctoi[cha]\n",
    "            Y.append(ix)\n",
    "            context = context[1:] + [ix]\n",
    "\n",
    "    X = torch.tensor(X)\n",
    "    Y = torch.tensor(Y)\n",
    "\n",
    "\n",
    "    return X, Y\n",
    "\n"
   ],
   "metadata": {
    "collapsed": false
   }
  },
  {
   "cell_type": "code",
   "execution_count": 31,
   "outputs": [],
   "source": [
    "Xtr, Ytr = build_dataset(names[:n1])\n",
    "Xdev, Ydev = build_dataset(names[n1:n2])\n",
    "Xtest , Ytest = build_dataset(names[n2:])"
   ],
   "metadata": {
    "collapsed": false
   }
  },
  {
   "cell_type": "code",
   "execution_count": 32,
   "outputs": [
    {
     "name": "stdout",
     "output_type": "stream",
     "text": [
      "Xtr.shape=torch.Size([6135, 3]) Ytr.shape=torch.Size([6135]), and Xdev.shape=torch.Size([750, 3]), and Xtest.shape=torch.Size([761, 3])\n"
     ]
    }
   ],
   "source": [
    "print(f\"{Xtr.shape=} {Ytr.shape=}, and {Xdev.shape=}, and {Xtest.shape=}\")"
   ],
   "metadata": {
    "collapsed": false
   }
  },
  {
   "cell_type": "code",
   "execution_count": 33,
   "outputs": [
    {
     "name": "stdout",
     "output_type": "stream",
     "text": [
      "1108\n"
     ]
    }
   ],
   "source": [
    "# define a gnerator\n",
    "g = torch.Generator().manual_seed(123456789)\n",
    "\n",
    "n_emb = 10  # The dimentions of the embedding space\n",
    "n_hidden = 10 # number of neurones in the hidden layer\n",
    "voc_len = len(chars)    # == 38\n",
    "\n",
    "# creating the embedded layer to embed our 38 character in 2D arrya and the first layer\n",
    "C = torch.randn((voc_len, n_emb),                   generator=g)\n",
    "# Creating the hidden layer\n",
    "W1 = torch.randn((n_emb * block_size, n_hidden),    generator=g)\n",
    "b1 = torch.randn(n_hidden,                          generator=g)\n",
    "W2 = torch.randn((n_hidden, voc_len),               generator=g)\n",
    "b2 = torch.randn(voc_len,                           generator=g)\n",
    "\n",
    "parameters = [C, W1, W2, b1, b2]\n",
    "print(sum(p.nelement() for p in parameters))\n",
    "for p in parameters:\n",
    "    p.requires_grad = True"
   ],
   "metadata": {
    "collapsed": false
   }
  },
  {
   "cell_type": "code",
   "execution_count": 34,
   "outputs": [
    {
     "name": "stdout",
     "output_type": "stream",
     "text": [
      "      0/ 200000: 7.5938\n",
      "  10000/ 200000: 2.7404\n",
      "  20000/ 200000: 2.0928\n",
      "  30000/ 200000: 2.5940\n",
      "  40000/ 200000: 2.4361\n",
      "  50000/ 200000: 2.2862\n",
      "  60000/ 200000: 2.5962\n",
      "  70000/ 200000: 2.0504\n",
      "  80000/ 200000: 2.2904\n",
      "  90000/ 200000: 2.4304\n",
      " 100000/ 200000: 2.0856\n",
      " 110000/ 200000: 2.3694\n",
      " 120000/ 200000: 2.6744\n",
      " 130000/ 200000: 2.2633\n",
      " 140000/ 200000: 2.2292\n",
      " 150000/ 200000: 2.2867\n",
      " 160000/ 200000: 2.2840\n",
      " 170000/ 200000: 2.0061\n",
      " 180000/ 200000: 2.1160\n",
      " 190000/ 200000: 2.1806\n",
      "tensor(2.3743, grad_fn=<NllLossBackward0>)\n"
     ]
    }
   ],
   "source": [
    "# training process\n",
    "max_steps = 200000\n",
    "batch_size = 32\n",
    "lossi = []\n",
    "\n",
    "for i in range(max_steps):\n",
    "    # making mini-patches\n",
    "    random_numbers = torch.randint(0, Xtr.shape[0], (batch_size,), generator=g)\n",
    "    Xb, Yb = Xtr[random_numbers], Ytr[random_numbers]\n",
    "\n",
    "    # forward pass\n",
    "    emb = C[Xb]  # we're impeding the char in 2D array =>\n",
    "    # print(f\"The embed shape is {emb.shape=}\") # (number of rows in X, number of columns in X, the crosponding vector from C to this number)\n",
    "    embcat = emb.view(emb.shape[0], -1)\n",
    "    h = torch.tanh(embcat @ W1 + b1)\n",
    "    # print(f\"The hidden layer shape is {h.shape=}\")\n",
    "    logits = h @ W2 + b2\n",
    "    # print(f\"The Logits layer shape is {logits.shape=}, and Y shape is {Ysmall.shape=}\")\n",
    "    loss = F.cross_entropy(logits, Yb)\n",
    "\n",
    "    # backward pass\n",
    "    for p in parameters:\n",
    "        p.grad = None\n",
    "    loss.backward()\n",
    "\n",
    "\n",
    "    # update\n",
    "    lr = 0.1 if i < 100000 else 0.01\n",
    "    for p in parameters:\n",
    "        p.data += - lr * p.grad\n",
    "\n",
    "    # track status\n",
    "    if i % 10000 == 0:\n",
    "        print(f\"{i:7d}/{max_steps:7d}: {loss.item():.4f}\")\n",
    "    lossi.append(loss.log10().item())\n",
    "\n",
    "print(loss)"
   ],
   "metadata": {
    "collapsed": false
   }
  },
  {
   "cell_type": "code",
   "execution_count": 35,
   "outputs": [
    {
     "data": {
      "text/plain": "[<matplotlib.lines.Line2D at 0x7fe9506c4490>]"
     },
     "execution_count": 35,
     "metadata": {},
     "output_type": "execute_result"
    },
    {
     "data": {
      "text/plain": "<Figure size 640x480 with 1 Axes>",
      "image/png": "[encoded data removed]"
     },
     "metadata": {},
     "output_type": "display_data"
    }
   ],
   "source": [
    "plt.plot(lossi)"
   ],
   "metadata": {
    "collapsed": false
   }
  },
  {
   "cell_type": "code",
   "execution_count": 44,
   "outputs": [
    {
     "name": "stdout",
     "output_type": "stream",
     "text": [
      "train 2.2745211124420166\n",
      "val 2.5351569652557373\n"
     ]
    }
   ],
   "source": [
    "# calculate the loss in the entire dataset\n",
    "@torch.no_grad()\n",
    "def split_test(split):\n",
    "    x, y = {\n",
    "        'train': (Xtr, Ytr),\n",
    "        'val': (Xdev, Ydev),\n",
    "        'text': (Xtest, Ytest)\n",
    "    }[split]\n",
    "    emb = C[x]\n",
    "    embcat = emb.view(emb.shape[0], -1)\n",
    "    h = torch.tanh(embcat @ W1 + b1)\n",
    "    logits = h @ W2 + b2\n",
    "    loss = F.cross_entropy(logits, y)\n",
    "    print(split, loss.item())\n",
    "\n",
    "split_test('train')\n",
    "split_test('val')"
   ],
   "metadata": {
    "collapsed": false
   }
  },
  {
   "cell_type": "code",
   "execution_count": 37,
   "outputs": [
    {
     "data": {
      "text/plain": "<Figure size 800x800 with 1 Axes>",
      "image/png": "[encoded data removed]"
     },
     "metadata": {},
     "output_type": "display_data"
    }
   ],
   "source": [
    "# visualize dimensions 0 and 1 of the embedding matrix C for all characters\n",
    "plt.figure(figsize=(8,8))\n",
    "plt.scatter(C[:,0].data, C[:,1].data, s=200)\n",
    "for i in range(C.shape[0]):\n",
    "    plt.text(C[i,0].item(), C[i,1].item(), itoc[i], ha=\"center\", va=\"center\", color='white')\n",
    "plt.grid('minor')"
   ],
   "metadata": {
    "collapsed": false
   }
  },
  {
   "cell_type": "code",
   "execution_count": 45,
   "outputs": [
    {
     "name": "stdout",
     "output_type": "stream",
     "text": [
      "ينواي.\n",
      "أنظمال.\n",
      "قوولاء.\n",
      "اروسة.\n",
      "لاجب.\n",
      "إحوق.\n",
      "مبرخة.\n",
      "هىامد.\n",
      "حجطال.\n",
      "خحاب.\n"
     ]
    }
   ],
   "source": [
    "# ٍSampling from the model\n",
    "for _ in range(10):\n",
    "    block_size = 3\n",
    "    context = [0] * block_size\n",
    "    out = []\n",
    "\n",
    "    while True:\n",
    "        emb = C[context]\n",
    "        h = torch.tanh(emb.view(1, -1) @ W1 + b1)\n",
    "        logits = h @ W2 + b2\n",
    "        probs = F.softmax(logits, dim=1)\n",
    "        ix = torch.multinomial(probs, num_samples=1, generator=g).item()\n",
    "        out.append(ix)\n",
    "        context = context[1:] + [ix]\n",
    "        if ix == 0:\n",
    "            break;\n",
    "\n",
    "    print(\"\".join(itoc[i] for i in out))"
   ],
   "metadata": {
    "collapsed": false
   }
  },
  {
   "cell_type": "code",
   "execution_count": 42,
   "outputs": [
    {
     "data": {
      "text/plain": "torch.Size([3, 10])"
     },
     "execution_count": 42,
     "metadata": {},
     "output_type": "execute_result"
    }
   ],
   "source": [
    "context = [0] * block_size\n",
    "C[context].shape"
   ],
   "metadata": {
    "collapsed": false
   }
  }
 ],
 "metadata": {
  "kernelspec": {
   "display_name": "Python 3",
   "language": "python",
   "name": "python3"
  },
  "language_info": {
   "codemirror_mode": {
    "name": "ipython",
    "version": 2
   },
   "file_extension": ".py",
   "mimetype": "text/x-python",
   "name": "python",
   "nbconvert_exporter": "python",
   "pygments_lexer": "ipython2",
   "version": "2.7.6"
  }
 },
 "nbformat": 4,
 "nbformat_minor": 0
}
