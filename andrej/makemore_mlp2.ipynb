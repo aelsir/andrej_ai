{
 "cells": [
  {
   "cell_type": "code",
   "execution_count": 91,
   "outputs": [],
   "source": [
    "import random\n",
    "import torch\n",
    "import torch.nn.functional as F\n",
    "import matplotlib.pyplot as plt\n",
    "%matplotlib inline"
   ],
   "metadata": {
    "collapsed": false
   }
  },
  {
   "cell_type": "code",
   "execution_count": 92,
   "metadata": {
    "collapsed": true
   },
   "outputs": [
    {
     "name": "stdout",
     "output_type": "stream",
     "text": [
      "The length of names is 1405\n",
      "The first 5 names are ['ابتسام', 'ابتهاج', 'ابتهال', 'اجتهاد', 'ازدهار']\n"
     ]
    }
   ],
   "source": [
    "# reading the data into variable called name\n",
    "import csv\n",
    "\n",
    "names = []\n",
    "with open('arabic_names.csv', 'r') as file:\n",
    "    csv_reader = csv.reader(file)\n",
    "    for row in csv_reader:\n",
    "        names.append(row[0])\n",
    "\n",
    "names.pop(0)\n",
    "print(f\"The length of names is {len(names)}\")\n",
    "print(f\"The first 5 names are {names[:5]}\")"
   ]
  },
  {
   "cell_type": "code",
   "execution_count": 93,
   "outputs": [
    {
     "name": "stdout",
     "output_type": "stream",
     "text": [
      "the data set have 1405, n1=1124, n2=1264\n"
     ]
    }
   ],
   "source": [
    "# Randomizing the data set\n",
    "random.seed(56)\n",
    "random.shuffle(names)\n",
    "\n",
    "n1 = int(0.8 * len(names))\n",
    "n2 = int(0.9 * len(names))\n",
    "print(f\"the data set have {len(names)}, {n1=}, {n2=}\")"
   ],
   "metadata": {
    "collapsed": false
   }
  },
  {
   "cell_type": "code",
   "execution_count": 94,
   "outputs": [],
   "source": [
    "# converting characters to number\n",
    "chars = sorted(list(set(''.join(names))))\n",
    "chars.insert(0, '.')\n",
    "\n",
    "# create character to integer\n",
    "ctoi = {value: index for index, value in enumerate(chars)}\n",
    "\n",
    "# create integer to character\n",
    "itoc = {value: index for index, value in ctoi.items()}"
   ],
   "metadata": {
    "collapsed": false
   }
  },
  {
   "cell_type": "code",
   "execution_count": 95,
   "outputs": [
    {
     "data": {
      "text/plain": "{'.': 0,\n ' ': 1,\n 'ء': 2,\n 'آ': 3,\n 'أ': 4,\n 'ؤ': 5,\n 'إ': 6,\n 'ئ': 7,\n 'ا': 8,\n 'ب': 9,\n 'ة': 10,\n 'ت': 11,\n 'ث': 12,\n 'ج': 13,\n 'ح': 14,\n 'خ': 15,\n 'د': 16,\n 'ذ': 17,\n 'ر': 18,\n 'ز': 19,\n 'س': 20,\n 'ش': 21,\n 'ص': 22,\n 'ض': 23,\n 'ط': 24,\n 'ظ': 25,\n 'ع': 26,\n 'غ': 27,\n 'ف': 28,\n 'ق': 29,\n 'ك': 30,\n 'ل': 31,\n 'م': 32,\n 'ن': 33,\n 'ه': 34,\n 'و': 35,\n 'ى': 36,\n 'ي': 37}"
     },
     "execution_count": 95,
     "metadata": {},
     "output_type": "execute_result"
    }
   ],
   "source": [
    "ctoi"
   ],
   "metadata": {
    "collapsed": false
   }
  },
  {
   "cell_type": "code",
   "execution_count": 96,
   "outputs": [],
   "source": [
    "# preparing the dataset and split them into training, dev, and test samples.\n",
    "# we need the first one to be ., ., . --> ا\n",
    "\n",
    "# define a function build_dataset to accept list of names and output them in X, Y format\n",
    "block_size = 3\n",
    "def build_dataset(names):\n",
    "    X, Y = [], []\n",
    "    for name in names:\n",
    "        context = [0] * block_size\n",
    "\n",
    "        for cha in name + '.':\n",
    "            X.append(context)\n",
    "            ix = ctoi[cha]\n",
    "            Y.append(ix)\n",
    "            context = context[1:] + [ix]\n",
    "\n",
    "    X = torch.tensor(X)\n",
    "    Y = torch.tensor(Y)\n",
    "    return X, Y"
   ],
   "metadata": {
    "collapsed": false
   }
  },
  {
   "cell_type": "code",
   "execution_count": 97,
   "outputs": [],
   "source": [
    "Xtr, Ytr = build_dataset(names[:n1])\n",
    "Xdev, Ydev = build_dataset(names[n1:n2])\n",
    "Xtest , Ytest = build_dataset(names[n2:])"
   ],
   "metadata": {
    "collapsed": false
   }
  },
  {
   "cell_type": "code",
   "execution_count": 98,
   "outputs": [
    {
     "name": "stdout",
     "output_type": "stream",
     "text": [
      "Xtr.shape=torch.Size([6135, 3]) Ytr.shape=torch.Size([6135]), and Xdev.shape=torch.Size([750, 3]), and Xtest.shape=torch.Size([761, 3])\n"
     ]
    }
   ],
   "source": [
    "print(f\"{Xtr.shape=} {Ytr.shape=}, and {Xdev.shape=}, and {Xtest.shape=}\")"
   ],
   "metadata": {
    "collapsed": false
   }
  },
  {
   "cell_type": "code",
   "execution_count": 109,
   "outputs": [
    {
     "name": "stdout",
     "output_type": "stream",
     "text": [
      "14618\n"
     ]
    }
   ],
   "source": [
    "# define a gnerator\n",
    "g = torch.Generator().manual_seed(123456789)\n",
    "\n",
    "n_emb = 10  # The dimentions of the embedding space\n",
    "n_hidden = 200 # number of neurones in the hidden layer\n",
    "voc_len = len(chars)    # == 38\n",
    "\n",
    "# creating the embedded layer to embed our 38 character in 2D arrya and the first layer\n",
    "C = torch.randn((voc_len, n_emb),                   generator=g)\n",
    "# Creating the hidden layer\n",
    "\n",
    "# initialize the weight with kamminti\n",
    "W1 = torch.randn((n_emb * block_size, n_hidden),    generator=g) * (5/3) /(n_emb * block_size) ** 0.5  #0.2\n",
    "# b1 = torch.randn(n_hidden,                          generator=g) * 0.01\n",
    "W2 = torch.randn((n_hidden, voc_len),               generator=g) * 0.01\n",
    "b2 = torch.randn(voc_len,                           generator=g) * 0\n",
    "\n",
    "bngain = torch.ones((1, n_hidden))\n",
    "bnbias = torch.zeros((1, n_hidden))\n",
    "\n",
    "bnmean_running = torch.zeros((1, n_hidden))\n",
    "bnstd_running = torch.ones(1, n_hidden)\n",
    "\n",
    "\n",
    "parameters = [C, W1, W2, b1, b2, bngain, bnbias]\n",
    "print(sum(p.nelement() for p in parameters))\n",
    "for p in parameters:\n",
    "    p.requires_grad = True"
   ],
   "metadata": {
    "collapsed": false
   }
  },
  {
   "cell_type": "code",
   "execution_count": 114,
   "outputs": [
    {
     "name": "stdout",
     "output_type": "stream",
     "text": [
      "      0/ 200000: 1.9848\n",
      "  10000/ 200000: 2.1377\n",
      "  20000/ 200000: 1.5439\n",
      "  30000/ 200000: 1.7550\n",
      "  40000/ 200000: 1.6742\n",
      "  50000/ 200000: 1.7153\n",
      "  60000/ 200000: 1.4590\n",
      "  70000/ 200000: 1.4314\n",
      "  80000/ 200000: 1.1576\n",
      "  90000/ 200000: 1.5842\n",
      " 100000/ 200000: 1.9078\n",
      " 110000/ 200000: 1.6395\n",
      " 120000/ 200000: 1.4130\n",
      " 130000/ 200000: 1.8828\n",
      " 140000/ 200000: 1.2886\n",
      " 150000/ 200000: 1.4942\n",
      " 160000/ 200000: 1.5945\n",
      " 170000/ 200000: 1.4441\n",
      " 180000/ 200000: 1.7879\n",
      " 190000/ 200000: 1.4652\n",
      "tensor(1.5815, grad_fn=<NllLossBackward0>)\n"
     ]
    }
   ],
   "source": [
    "# training process\n",
    "max_steps = 200000\n",
    "batch_size = 32\n",
    "lossi = []\n",
    "\n",
    "for i in range(max_steps):\n",
    "    # making mini-patches\n",
    "    random_numbers = torch.randint(0, Xtr.shape[0], (batch_size,), generator=g)\n",
    "    Xb, Yb = Xtr[random_numbers], Ytr[random_numbers]\n",
    "\n",
    "    # forward pass\n",
    "    emb = C[Xb]  # we're impeding the char in 2D array =>\n",
    "    # print(f\"The embed shape is {emb.shape=}\") # (number of rows in X, number of columns in X, the crosponding vector from C to this number)\n",
    "    embcat = emb.view(emb.shape[0], -1)\n",
    "    hpreact = embcat @ W1 + # b1\n",
    "\n",
    "    bnmeani = hpreact.mean(0, keepdim=True)\n",
    "    bnstdi = hpreact.std(0, keepdim=True)\n",
    "\n",
    "    hpreact = bngain * (hpreact - bnmeani) /  bnstdi + bnbias\n",
    "\n",
    "    with torch.no_grad():\n",
    "        bnmean_running = 0.999 * bnmean_running + 0.001 * bnmeani\n",
    "        bnstd_running = 0.999 * bnstd_running + 0.001 * bnstdi\n",
    "    h = torch.tanh(hpreact)\n",
    "    # print(f\"The hidden layer shape is {h.shape=}\")\n",
    "    logits = h @ W2 + b2\n",
    "    # print(f\"The Logits layer shape is {logits.shape=}, and Y shape is {Ysmall.shape=}\")\n",
    "    loss = F.cross_entropy(logits, Yb)\n",
    "\n",
    "    # backward pass\n",
    "    for p in parameters:\n",
    "        p.grad = None\n",
    "    loss.backward()\n",
    "\n",
    "\n",
    "    # update\n",
    "    lr = 0.1 if i < 10000 else 0.01\n",
    "    for p in parameters:\n",
    "        p.data += - lr * p.grad\n",
    "\n",
    "    # track status\n",
    "    if i % 10000 == 0:\n",
    "        print(f\"{i:7d}/{max_steps:7d}: {loss.item():.4f}\")\n",
    "    lossi.append(loss.log10().item())\n",
    "\n",
    "print(loss)"
   ],
   "metadata": {
    "collapsed": false
   }
  },
  {
   "cell_type": "code",
   "execution_count": null,
   "outputs": [],
   "source": [
    "plt.plot(lossi)"
   ],
   "metadata": {
    "collapsed": false
   }
  },
  {
   "cell_type": "code",
   "execution_count": 115,
   "outputs": [],
   "source": [
    "# Calibrate the batch norm at the end of training\n",
    "\n",
    "with torch.no_grad():\n",
    "    # pass the training set through\n",
    "    emb = C[Xtr]\n",
    "    embcat = emb.view(emb.shape[0], -1)\n",
    "    hpreact = embcat @ W1 + b1\n",
    "\n",
    "    # measure the man/std over the entire training set\n",
    "    bnmean = hpreact.mean(0, keepdim=True)\n",
    "    bnstd = hpreact.std(0, keepdim=True)\n"
   ],
   "metadata": {
    "collapsed": false
   }
  },
  {
   "cell_type": "code",
   "execution_count": 116,
   "outputs": [
    {
     "data": {
      "text/plain": "tensor([[-0.8088,  0.3606,  0.2423,  0.8705,  1.4932, -0.3241, -1.7131, -0.6122,\n         -0.1177,  0.2688,  0.7464, -0.2906, -0.0261, -0.4283,  0.2568,  0.7016,\n         -0.1378, -0.6550, -0.0222,  0.4779,  0.2500, -0.5505,  0.4323, -0.4158,\n          0.0883, -0.6375,  0.4146, -0.2603, -0.7694, -0.0385, -1.0814,  0.2354,\n          1.0280,  0.1054,  0.3664, -0.0920,  0.9036,  0.8335,  0.9653, -0.1379,\n         -0.9304, -0.8798, -0.8491, -1.3261, -0.0350, -0.5060, -0.4375,  0.1636,\n          0.1412, -1.3199, -0.2449, -0.3646,  0.1068, -0.1563, -0.0606, -0.1752,\n          0.6040, -0.1387, -0.0613, -0.5438, -0.6903, -0.3567, -1.3418,  0.9358,\n          0.2270, -0.4911,  0.3384, -0.6328,  0.0559, -0.8822, -0.6012, -0.8275,\n         -0.9208,  0.9646, -0.2727, -1.0240, -0.5102, -1.5008, -0.0291, -0.0966,\n          0.9296, -0.1800, -0.1752,  0.0674,  0.2813, -0.1358,  0.1843,  0.0457,\n          0.0258,  0.0480,  0.4904,  0.9750,  1.0556, -0.7567,  0.5691, -0.0753,\n         -0.1398,  0.1462, -0.2185,  0.0432,  0.5820, -0.5631, -0.3258, -1.0789,\n         -0.0471,  0.5918,  0.0886, -0.7489,  0.3954, -0.4231,  0.4820,  0.7334,\n          0.2441,  0.1617,  0.6469,  0.0702,  0.2052,  0.3941,  0.1706, -0.1863,\n          0.8260,  0.3157,  0.5716, -0.0803,  0.3973,  1.1723,  0.2788, -0.4800,\n          0.6130, -1.0037,  0.5829, -0.0566,  0.3899, -0.2702,  0.0291, -0.8810,\n          0.4397,  0.2730, -0.3367,  0.0583, -0.1301, -0.2344, -0.3438,  1.0146,\n          0.1651,  0.0673,  0.1197, -0.7022, -0.0258,  0.4896, -0.1021, -1.0286,\n         -0.6281,  0.2922,  0.1732, -0.1914, -0.5580,  1.7239,  0.6517,  0.5612,\n          0.0701, -0.3087,  0.3818,  0.1373,  0.2994,  0.3061, -0.1696,  0.0750,\n          0.7550,  0.4471,  0.5114, -0.0790,  0.2285, -0.7131, -0.3001, -0.2818,\n          0.6546, -0.2438,  0.0923,  0.4358,  0.1394,  1.0756, -0.3390, -0.5360,\n          0.5341, -0.3845,  0.6027,  1.8158, -0.6003, -0.4791, -0.0271,  0.2696,\n          0.3420, -0.8185,  1.6576, -0.1171, -0.6385,  0.1531, -0.0291, -0.5427]])"
     },
     "execution_count": 116,
     "metadata": {},
     "output_type": "execute_result"
    }
   ],
   "source": [
    "bnmean"
   ],
   "metadata": {
    "collapsed": false
   }
  },
  {
   "cell_type": "code",
   "execution_count": 117,
   "outputs": [
    {
     "data": {
      "text/plain": "tensor([[-0.8178,  0.3626,  0.2516,  0.8717,  1.4876, -0.3186, -1.7024, -0.6108,\n         -0.1071,  0.2798,  0.7467, -0.2818, -0.0201, -0.4291,  0.2686,  0.7082,\n         -0.1227, -0.6329, -0.0389,  0.4893,  0.2624, -0.5344,  0.4221, -0.4184,\n          0.0731, -0.6290,  0.4368, -0.2701, -0.7726, -0.0468, -1.0841,  0.2352,\n          1.0112,  0.1154,  0.3595, -0.0853,  0.9191,  0.8399,  0.9538, -0.1284,\n         -0.9331, -0.8633, -0.8467, -1.3264, -0.0368, -0.5048, -0.4614,  0.1755,\n          0.1517, -1.3301, -0.2585, -0.3664,  0.1017, -0.1569, -0.0676, -0.1630,\n          0.5997, -0.1649, -0.0739, -0.5510, -0.6952, -0.3451, -1.3488,  0.9248,\n          0.2167, -0.4862,  0.3389, -0.6416,  0.0464, -0.8770, -0.6056, -0.8389,\n         -0.9228,  0.9530, -0.2769, -1.0164, -0.5066, -1.5046, -0.0156, -0.0744,\n          0.9282, -0.1575, -0.1901,  0.0784,  0.2876, -0.1303,  0.1905,  0.0377,\n          0.0307,  0.0358,  0.4915,  0.9607,  1.0599, -0.7614,  0.5748, -0.0665,\n         -0.1403,  0.1593, -0.2127,  0.0528,  0.5849, -0.5620, -0.3310, -1.1073,\n         -0.0352,  0.5750,  0.1053, -0.7370,  0.3996, -0.4522,  0.4853,  0.7276,\n          0.2596,  0.1725,  0.6533,  0.0772,  0.2018,  0.4045,  0.1644, -0.1860,\n          0.8054,  0.3107,  0.5970, -0.0996,  0.3869,  1.1845,  0.2804, -0.4822,\n          0.6132, -1.0111,  0.5987, -0.0371,  0.3887, -0.2544,  0.0387, -0.8749,\n          0.4643,  0.2698, -0.3283,  0.0520, -0.1420, -0.2292, -0.3539,  0.9969,\n          0.1865,  0.0741,  0.1366, -0.6997, -0.0211,  0.4794, -0.0906, -1.0399,\n         -0.6307,  0.2824,  0.1880, -0.1926, -0.5594,  1.7036,  0.6506,  0.5658,\n          0.0809, -0.3189,  0.3856,  0.1283,  0.2898,  0.3186, -0.1828,  0.0829,\n          0.7534,  0.4350,  0.5136, -0.0819,  0.2172, -0.7214, -0.2905, -0.2615,\n          0.6460, -0.2427,  0.0807,  0.4365,  0.1122,  1.0871, -0.3421, -0.5329,\n          0.5237, -0.3695,  0.5805,  1.8206, -0.5948, -0.4751, -0.0415,  0.2665,\n          0.3473, -0.8266,  1.6645, -0.1266, -0.6552,  0.1456, -0.0314, -0.5358]])"
     },
     "execution_count": 117,
     "metadata": {},
     "output_type": "execute_result"
    }
   ],
   "source": [
    "bnmean_running"
   ],
   "metadata": {
    "collapsed": false
   }
  },
  {
   "cell_type": "code",
   "execution_count": 118,
   "outputs": [
    {
     "name": "stdout",
     "output_type": "stream",
     "text": [
      "train 2.3819961547851562\n",
      "val 3.3817925453186035\n"
     ]
    }
   ],
   "source": [
    "# calculate the loss in the entire dataset\n",
    "@torch.no_grad()\n",
    "def split_test(split):\n",
    "    x, y = {\n",
    "        'train': (Xtr, Ytr),\n",
    "        'val': (Xdev, Ydev),\n",
    "        'text': (Xtest, Ytest)\n",
    "    }[split]\n",
    "    emb = C[x]\n",
    "    embcat = emb.view(emb.shape[0], -1)\n",
    "    hpreact = embcat @ W1 + b1\n",
    "    # hpreact = bngain * (hpreact - hpreact.mean(0, keepdim=True)) / hpreact.std(0, keepdim=True) + bnbias\n",
    "    hpreact = bngain * (hpreact - bnmean_running) / bnstd_running + bnbias\n",
    "    h = torch.tanh(embcat @ W1 + b1)\n",
    "    logits = h @ W2 + b2\n",
    "    loss = F.cross_entropy(logits, y)\n",
    "    print(split, loss.item())\n",
    "\n",
    "split_test('train')\n",
    "split_test('val')"
   ],
   "metadata": {
    "collapsed": false
   }
  },
  {
   "cell_type": "code",
   "execution_count": 120,
   "outputs": [
    {
     "data": {
      "text/plain": "<Figure size 800x800 with 1 Axes>",
      "image/png": "[encoded data removed]"
     },
     "metadata": {},
     "output_type": "display_data"
    }
   ],
   "source": [
    " # visualize dimensions 0 and 1 of the embedding matrix C for all characters\n",
    "plt.figure(figsize=(8,8))\n",
    "plt.scatter(C[:,0].data, C[:,1].data, s=200)\n",
    "for i in range(C.shape[0]):\n",
    "    plt.text(C[i,0].item(), C[i,1].item(), itoc[i], ha=\"center\", va=\"center\", color='white')\n",
    "plt.grid('minor')"
   ],
   "metadata": {
    "collapsed": false
   }
  },
  {
   "cell_type": "code",
   "execution_count": 119,
   "outputs": [
    {
     "name": "stdout",
     "output_type": "stream",
     "text": [
      "كاثكرسهرف.\n",
      "أغمرةطينة.\n",
      "عميدرمجائب.\n",
      "زعرغامتثن.\n",
      "حائس.\n",
      "عبداء.\n",
      "عقثاء.\n",
      "عميد.\n",
      "جناء.\n",
      "إيسزآةدلهان.\n"
     ]
    }
   ],
   "source": [
    "# ٍSampling from the model\n",
    "for _ in range(10):\n",
    "    block_size = 3\n",
    "    context = [0] * block_size\n",
    "    out = []\n",
    "\n",
    "    while True:\n",
    "        emb = C[context]\n",
    "        h = torch.tanh(emb.view(1, -1) @ W1 + b1)\n",
    "        logits = h @ W2 + b2\n",
    "        probs = F.softmax(logits, dim=1)\n",
    "        ix = torch.multinomial(probs, num_samples=1, generator=g).item()\n",
    "        out.append(ix)\n",
    "        context = context[1:] + [ix]\n",
    "        if ix == 0:\n",
    "            break;\n",
    "\n",
    "    print(\"\".join(itoc[i] for i in out))"
   ],
   "metadata": {
    "collapsed": false
   }
  },
  {
   "cell_type": "code",
   "execution_count": null,
   "outputs": [],
   "source": [
    "context = [0] * block_size\n",
    "C[context].shape"
   ],
   "metadata": {
    "collapsed": false
   }
  },
  {
   "cell_type": "code",
   "execution_count": null,
   "outputs": [],
   "source": [
    "torch.tensor(10).log()"
   ],
   "metadata": {
    "collapsed": false
   }
  }
 ],
 "metadata": {
  "kernelspec": {
   "display_name": "Python 3",
   "language": "python",
   "name": "python3"
  },
  "language_info": {
   "codemirror_mode": {
    "name": "ipython",
    "version": 2
   },
   "file_extension": ".py",
   "mimetype": "text/x-python",
   "name": "python",
   "nbconvert_exporter": "python",
   "pygments_lexer": "ipython2",
   "version": "2.7.6"
  }
 },
 "nbformat": 4,
 "nbformat_minor": 0
}
