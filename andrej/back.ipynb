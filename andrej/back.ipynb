{
 "cells": [
  {
   "cell_type": "code",
   "execution_count": 11,
   "metadata": {},
   "outputs": [],
   "source": [
    "import math\n",
    "import random\n",
    "import numpy as np\n",
    "import matplotlib.pyplot as plt\n",
    "%matplotlib inline"
   ]
  },
  {
   "cell_type": "code",
   "execution_count": 12,
   "metadata": {},
   "outputs": [],
   "source": [
    "class Value:\n",
    "  \n",
    "  def __init__(self, data, _children=(), _op='', label=''):\n",
    "    self.data = data\n",
    "    self.grad = 0.0\n",
    "    self._backward = lambda: None\n",
    "    self._prev = set(_children)\n",
    "    self._op = _op\n",
    "    self.label = label\n",
    "\n",
    "  def __repr__(self):\n",
    "    return f\"Value(data={self.data})\"\n",
    "  \n",
    "  def __add__(self, other):\n",
    "    other = other if isinstance(other, Value) else Value(other)\n",
    "    out = Value(self.data + other.data, (self, other), '+')\n",
    "    \n",
    "    def _backward():\n",
    "      self.grad += 1.0 * out.grad\n",
    "      other.grad += 1.0 * out.grad\n",
    "    out._backward = _backward\n",
    "    \n",
    "    return out\n",
    "\n",
    "  def __mul__(self, other):\n",
    "    other = other if isinstance(other, Value) else Value(other)\n",
    "    out = Value(self.data * other.data, (self, other), '*')\n",
    "    \n",
    "    def _backward():\n",
    "      self.grad += other.data * out.grad\n",
    "      other.grad += self.data * out.grad\n",
    "    out._backward = _backward\n",
    "      \n",
    "    return out\n",
    "  \n",
    "  def __pow__(self, other):\n",
    "    assert isinstance(other, (int, float)), \"only supporting int/float powers for now\"\n",
    "    out = Value(self.data**other, (self,), f'**{other}')\n",
    "\n",
    "    def _backward():\n",
    "        self.grad += other * (self.data ** (other - 1)) * out.grad\n",
    "    out._backward = _backward\n",
    "\n",
    "    return out\n",
    "  \n",
    "  def __rmul__(self, other): # other * self\n",
    "    return self * other\n",
    "\n",
    "  def __truediv__(self, other): # self / other\n",
    "    return self * other**-1\n",
    "\n",
    "  def __neg__(self): # -self\n",
    "    return self * -1\n",
    "\n",
    "  def __sub__(self, other): # self - other\n",
    "    return self + (-other)\n",
    "\n",
    "  def __radd__(self, other): # other + self\n",
    "    return self + other\n",
    "\n",
    "  def tanh(self):\n",
    "    x = self.data\n",
    "    t = (math.exp(2*x) - 1)/(math.exp(2*x) + 1)\n",
    "    out = Value(t, (self, ), 'tanh')\n",
    "    \n",
    "    def _backward():\n",
    "      self.grad += (1 - t**2) * out.grad\n",
    "    out._backward = _backward\n",
    "    \n",
    "    return out\n",
    "  \n",
    "  def exp(self):\n",
    "    x = self.data\n",
    "    out = Value(math.exp(x), (self, ), 'exp')\n",
    "    \n",
    "    def _backward():\n",
    "      self.grad += out.data * out.grad # NOTE: in the video I incorrectly used = instead of +=. Fixed here.\n",
    "    out._backward = _backward\n",
    "    \n",
    "    return out\n",
    "  \n",
    "  \n",
    "  def backward(self):\n",
    "    \n",
    "    topo = []\n",
    "    visited = set()\n",
    "    def build_topo(v):\n",
    "      if v not in visited:\n",
    "        visited.add(v)\n",
    "        for child in v._prev:\n",
    "          build_topo(child)\n",
    "        topo.append(v)\n",
    "    build_topo(self)\n",
    "    \n",
    "    self.grad = 1.0\n",
    "    for node in reversed(topo):\n",
    "      node._backward()"
   ]
  },
  {
   "cell_type": "code",
   "execution_count": 13,
   "metadata": {},
   "outputs": [],
   "source": [
    "\n",
    "from graphviz import Digraph\n",
    "\n",
    "def trace(root):\n",
    "  # builds a set of all nodes and edges in a graph\n",
    "  nodes, edges = set(), set()\n",
    "  def build(v):\n",
    "    if v not in nodes:\n",
    "      nodes.add(v)\n",
    "      for child in v._prev:\n",
    "        edges.add((child, v))\n",
    "        build(child)\n",
    "  build(root)\n",
    "  return nodes, edges\n",
    "\n",
    "def draw_dot(root):\n",
    "  dot = Digraph(format='svg', graph_attr={'rankdir': 'LR'}) # LR = left to right\n",
    "  \n",
    "  nodes, edges = trace(root)\n",
    "  for n in nodes:\n",
    "    uid = str(id(n))\n",
    "    # for any value in the graph, create a rectangular ('record') node for it\n",
    "    dot.node(name = uid, label = \"{ %s | data %.4f | grad %.4f }\" % (n.label, n.data, n.grad), shape='record')\n",
    "    if n._op:\n",
    "      # if this value is a result of some operation, create an op node for it\n",
    "      dot.node(name = uid + n._op, label = n._op)\n",
    "      # and connect this node to it\n",
    "      dot.edge(uid + n._op, uid)\n",
    "\n",
    "  for n1, n2 in edges:\n",
    "    # connect n1 to the op node of n2\n",
    "    dot.edge(str(id(n1)), str(id(n2)) + n2._op)\n",
    "\n",
    "  return dot"
   ]
  },
  {
   "cell_type": "code",
   "execution_count": 14,
   "metadata": {},
   "outputs": [
    {
     "name": "stdout",
     "output_type": "stream",
     "text": [
      "0.7071066904050358\n",
      "----------\n",
      "x1 -1.5000003851533106\n",
      "w1 1.0000002567688737\n",
      "x2 -1.5000003851533106\n",
      "w2 0.0\n"
     ]
    }
   ],
   "source": [
    "import torch \n",
    "\n",
    "x1= torch.Tensor([2.0]).double(); x1.requires_grad=True;\n",
    "x2 = torch.Tensor([0.0]).double(); x2.requires_grad=True;\n",
    "w1 = torch.Tensor([-3.0]).double(); w1.requires_grad=True;\n",
    "w2 = torch.Tensor([1.0]).double(); w2.requires_grad=True;\n",
    "b = torch.Tensor([6.8813735870195432]).double(); b.requires_grad=True;\n",
    "n = x1*w1 + x2*w2 + b\n",
    "o = torch.tanh(n)\n",
    "o.backward()\n",
    "\n",
    "print(o.data.item())\n",
    "print('----------')\n",
    "print('x1', x1.grad.item())\n",
    "print('w1', w1.grad.item())\n",
    "print('x2', x1.grad.item())\n",
    "print('w2', w2.grad.item())\n"
   ]
  },
  {
   "cell_type": "code",
   "execution_count": 27,
   "metadata": {},
   "outputs": [
    {
     "data": {
      "text/plain": [
       "Value(data=-0.8095586740512322)"
      ]
     },
     "execution_count": 27,
     "metadata": {},
     "output_type": "execute_result"
    }
   ],
   "source": [
    "import random\n",
    "\n",
    "class Neuron:\n",
    "    def __init__(self, nin):\n",
    "        self.w = [Value(random.uniform(-1,1)) for _ in range(nin)]\n",
    "        self.b = Value(random.uniform(-1, 1))\n",
    "\n",
    "    def __call__(self, x):\n",
    "        act = sum((wi*xi for wi, xi in zip(self.w, x)), self.b)\n",
    "        out = act.tanh()\n",
    "        return out\n",
    "\n",
    "class Layer:\n",
    "    # nout = how many nerouns I want in my layers\n",
    "    # nin = the dimention of each neuron\n",
    "    # Layer(3, 2) = neurons of dimation 3 and 2 neruons in the layer\n",
    "    def __init__(self, nin, nout):\n",
    "        self.neurons = [Neuron(nin) for _ in range(nout)]\n",
    "\n",
    "\n",
    "    def __call__(self, x):\n",
    "\n",
    "        # call the initiated neurons in the list which make 1 layer, and feed them with x value\n",
    "        outs = [n(x) for n in self.neurons]\n",
    "        return outs[0] if len(outs) == 1 else outs\n",
    "    \n",
    "class MLP:\n",
    "    def __init__(self, nin, nouts):\n",
    "        sz = [nin] + nouts\n",
    "        self.layers = [Layer(sz[i], sz[i+1]) for i in range (len(nouts))]\n",
    "    def __call__(self, x):\n",
    "        for layer in self.layers:\n",
    "            x = layer(x)\n",
    "        return x\n",
    "\n",
    "x = [2.0, 3.0, 0.5]\n",
    "n = MLP(3, [4, 4, 1])\n",
    "n(x)"
   ]
  },
  {
   "cell_type": "code",
   "execution_count": 26,
   "metadata": {},
   "outputs": [
    {
     "data": {
      "image/svg+xml": "<?xml version=\"1.0\" encoding=\"UTF-8\" standalone=\"no\"?>\n<!DOCTYPE svg PUBLIC \"-//W3C//DTD SVG 1.1//EN\"\n \"http://www.w3.org/Graphics/SVG/1.1/DTD/svg11.dtd\">\n<!-- Generated by graphviz version 2.50.0 (0)\n -->\n<!-- Pages: 1 -->\n<svg width=\"1760pt\" height=\"292pt\"\n viewBox=\"0.00 0.00 1760.00 292.00\" xmlns=\"http://www.w3.org/2000/svg\" xmlns:xlink=\"http://www.w3.org/1999/xlink\">\n<g id=\"graph0\" class=\"graph\" transform=\"scale(1 1) rotate(0) translate(4 288)\">\n<polygon fill=\"white\" stroke=\"transparent\" points=\"-4,4 -4,-288 1756,-288 1756,4 -4,4\"/>\n<!-- 140441980766720 -->\n<g id=\"node1\" class=\"node\">\n<title>140441980766720</title>\n<polygon fill=\"none\" stroke=\"black\" points=\"313,-27.5 313,-63.5 500,-63.5 500,-27.5 313,-27.5\"/>\n<text text-anchor=\"middle\" x=\"323\" y=\"-41.8\" font-family=\"Times,serif\" font-size=\"14.00\"> </text>\n<polyline fill=\"none\" stroke=\"black\" points=\"333,-27.5 333,-63.5 \"/>\n<text text-anchor=\"middle\" x=\"375.5\" y=\"-41.8\" font-family=\"Times,serif\" font-size=\"14.00\">data &#45;1.0085</text>\n<polyline fill=\"none\" stroke=\"black\" points=\"418,-27.5 418,-63.5 \"/>\n<text text-anchor=\"middle\" x=\"459\" y=\"-41.8\" font-family=\"Times,serif\" font-size=\"14.00\">grad 0.0000</text>\n</g>\n<!-- 140441980766096+ -->\n<g id=\"node20\" class=\"node\">\n<title>140441980766096+</title>\n<ellipse fill=\"none\" stroke=\"black\" cx=\"563\" cy=\"-100.5\" rx=\"27\" ry=\"18\"/>\n<text text-anchor=\"middle\" x=\"563\" y=\"-96.8\" font-family=\"Times,serif\" font-size=\"14.00\">+</text>\n</g>\n<!-- 140441980766720&#45;&gt;140441980766096+ -->\n<g id=\"edge11\" class=\"edge\">\n<title>140441980766720&#45;&gt;140441980766096+</title>\n<path fill=\"none\" stroke=\"black\" d=\"M471.02,-63.65C480.79,-66.76 490.71,-70.08 500,-73.5 510.25,-77.27 521.23,-81.86 531.07,-86.18\"/>\n<polygon fill=\"black\" stroke=\"black\" points=\"529.89,-89.49 540.45,-90.37 532.74,-83.1 529.89,-89.49\"/>\n</g>\n<!-- 140441980766720* -->\n<g id=\"node2\" class=\"node\">\n<title>140441980766720*</title>\n<ellipse fill=\"none\" stroke=\"black\" cx=\"250\" cy=\"-45.5\" rx=\"27\" ry=\"18\"/>\n<text text-anchor=\"middle\" x=\"250\" y=\"-41.8\" font-family=\"Times,serif\" font-size=\"14.00\">*</text>\n</g>\n<!-- 140441980766720*&#45;&gt;140441980766720 -->\n<g id=\"edge1\" class=\"edge\">\n<title>140441980766720*&#45;&gt;140441980766720</title>\n<path fill=\"none\" stroke=\"black\" d=\"M277.21,-45.5C284.73,-45.5 293.43,-45.5 302.67,-45.5\"/>\n<polygon fill=\"black\" stroke=\"black\" points=\"302.89,-49 312.89,-45.5 302.89,-42 302.89,-49\"/>\n</g>\n<!-- 140441980765232 -->\n<g id=\"node3\" class=\"node\">\n<title>140441980765232</title>\n<polygon fill=\"none\" stroke=\"black\" points=\"939,-137.5 939,-173.5 1126,-173.5 1126,-137.5 939,-137.5\"/>\n<text text-anchor=\"middle\" x=\"949\" y=\"-151.8\" font-family=\"Times,serif\" font-size=\"14.00\"> </text>\n<polyline fill=\"none\" stroke=\"black\" points=\"959,-137.5 959,-173.5 \"/>\n<text text-anchor=\"middle\" x=\"1001.5\" y=\"-151.8\" font-family=\"Times,serif\" font-size=\"14.00\">data &#45;1.6336</text>\n<polyline fill=\"none\" stroke=\"black\" points=\"1044,-137.5 1044,-173.5 \"/>\n<text text-anchor=\"middle\" x=\"1085\" y=\"-151.8\" font-family=\"Times,serif\" font-size=\"14.00\">grad 0.0000</text>\n</g>\n<!-- 140441980767536+ -->\n<g id=\"node14\" class=\"node\">\n<title>140441980767536+</title>\n<ellipse fill=\"none\" stroke=\"black\" cx=\"1189\" cy=\"-182.5\" rx=\"27\" ry=\"18\"/>\n<text text-anchor=\"middle\" x=\"1189\" y=\"-178.8\" font-family=\"Times,serif\" font-size=\"14.00\">+</text>\n</g>\n<!-- 140441980765232&#45;&gt;140441980767536+ -->\n<g id=\"edge10\" class=\"edge\">\n<title>140441980765232&#45;&gt;140441980767536+</title>\n<path fill=\"none\" stroke=\"black\" d=\"M1126.05,-171.67C1135.34,-173.3 1144.33,-174.87 1152.44,-176.29\"/>\n<polygon fill=\"black\" stroke=\"black\" points=\"1152.1,-179.78 1162.55,-178.05 1153.3,-172.88 1152.1,-179.78\"/>\n</g>\n<!-- 140441980765232+ -->\n<g id=\"node4\" class=\"node\">\n<title>140441980765232+</title>\n<ellipse fill=\"none\" stroke=\"black\" cx=\"876\" cy=\"-155.5\" rx=\"27\" ry=\"18\"/>\n<text text-anchor=\"middle\" x=\"876\" y=\"-151.8\" font-family=\"Times,serif\" font-size=\"14.00\">+</text>\n</g>\n<!-- 140441980765232+&#45;&gt;140441980765232 -->\n<g id=\"edge2\" class=\"edge\">\n<title>140441980765232+&#45;&gt;140441980765232</title>\n<path fill=\"none\" stroke=\"black\" d=\"M903.21,-155.5C910.73,-155.5 919.43,-155.5 928.67,-155.5\"/>\n<polygon fill=\"black\" stroke=\"black\" points=\"928.89,-159 938.89,-155.5 928.89,-152 928.89,-159\"/>\n</g>\n<!-- 140441688750640 -->\n<g id=\"node5\" class=\"node\">\n<title>140441688750640</title>\n<polygon fill=\"none\" stroke=\"black\" points=\"0,-55.5 0,-91.5 187,-91.5 187,-55.5 0,-55.5\"/>\n<text text-anchor=\"middle\" x=\"10\" y=\"-69.8\" font-family=\"Times,serif\" font-size=\"14.00\"> </text>\n<polyline fill=\"none\" stroke=\"black\" points=\"20,-55.5 20,-91.5 \"/>\n<text text-anchor=\"middle\" x=\"62.5\" y=\"-69.8\" font-family=\"Times,serif\" font-size=\"14.00\">data &#45;0.5042</text>\n<polyline fill=\"none\" stroke=\"black\" points=\"105,-55.5 105,-91.5 \"/>\n<text text-anchor=\"middle\" x=\"146\" y=\"-69.8\" font-family=\"Times,serif\" font-size=\"14.00\">grad 0.0000</text>\n</g>\n<!-- 140441688750640&#45;&gt;140441980766720* -->\n<g id=\"edge12\" class=\"edge\">\n<title>140441688750640&#45;&gt;140441980766720*</title>\n<path fill=\"none\" stroke=\"black\" d=\"M187.05,-56.73C196.54,-55.01 205.71,-53.35 213.95,-51.85\"/>\n<polygon fill=\"black\" stroke=\"black\" points=\"214.64,-55.28 223.85,-50.06 213.39,-48.4 214.64,-55.28\"/>\n</g>\n<!-- 140441980767344 -->\n<g id=\"node6\" class=\"node\">\n<title>140441980767344</title>\n<polygon fill=\"none\" stroke=\"black\" points=\"1565,-164.5 1565,-200.5 1752,-200.5 1752,-164.5 1565,-164.5\"/>\n<text text-anchor=\"middle\" x=\"1575\" y=\"-178.8\" font-family=\"Times,serif\" font-size=\"14.00\"> </text>\n<polyline fill=\"none\" stroke=\"black\" points=\"1585,-164.5 1585,-200.5 \"/>\n<text text-anchor=\"middle\" x=\"1627.5\" y=\"-178.8\" font-family=\"Times,serif\" font-size=\"14.00\">data &#45;0.8832</text>\n<polyline fill=\"none\" stroke=\"black\" points=\"1670,-164.5 1670,-200.5 \"/>\n<text text-anchor=\"middle\" x=\"1711\" y=\"-178.8\" font-family=\"Times,serif\" font-size=\"14.00\">grad 0.0000</text>\n</g>\n<!-- 140441980767344tanh -->\n<g id=\"node7\" class=\"node\">\n<title>140441980767344tanh</title>\n<ellipse fill=\"none\" stroke=\"black\" cx=\"1502\" cy=\"-182.5\" rx=\"27\" ry=\"18\"/>\n<text text-anchor=\"middle\" x=\"1502\" y=\"-178.8\" font-family=\"Times,serif\" font-size=\"14.00\">tanh</text>\n</g>\n<!-- 140441980767344tanh&#45;&gt;140441980767344 -->\n<g id=\"edge3\" class=\"edge\">\n<title>140441980767344tanh&#45;&gt;140441980767344</title>\n<path fill=\"none\" stroke=\"black\" d=\"M1529.21,-182.5C1536.73,-182.5 1545.43,-182.5 1554.67,-182.5\"/>\n<polygon fill=\"black\" stroke=\"black\" points=\"1554.89,-186 1564.89,-182.5 1554.89,-179 1554.89,-186\"/>\n</g>\n<!-- 140441980764272 -->\n<g id=\"node8\" class=\"node\">\n<title>140441980764272</title>\n<polygon fill=\"none\" stroke=\"black\" points=\"626,-137.5 626,-173.5 813,-173.5 813,-137.5 626,-137.5\"/>\n<text text-anchor=\"middle\" x=\"636\" y=\"-151.8\" font-family=\"Times,serif\" font-size=\"14.00\"> </text>\n<polyline fill=\"none\" stroke=\"black\" points=\"646,-137.5 646,-173.5 \"/>\n<text text-anchor=\"middle\" x=\"688.5\" y=\"-151.8\" font-family=\"Times,serif\" font-size=\"14.00\">data &#45;0.1455</text>\n<polyline fill=\"none\" stroke=\"black\" points=\"731,-137.5 731,-173.5 \"/>\n<text text-anchor=\"middle\" x=\"772\" y=\"-151.8\" font-family=\"Times,serif\" font-size=\"14.00\">grad 0.0000</text>\n</g>\n<!-- 140441980764272&#45;&gt;140441980765232+ -->\n<g id=\"edge9\" class=\"edge\">\n<title>140441980764272&#45;&gt;140441980765232+</title>\n<path fill=\"none\" stroke=\"black\" d=\"M813.05,-155.5C822.06,-155.5 830.79,-155.5 838.7,-155.5\"/>\n<polygon fill=\"black\" stroke=\"black\" points=\"838.95,-159 848.95,-155.5 838.95,-152 838.95,-159\"/>\n</g>\n<!-- 140441980764272* -->\n<g id=\"node9\" class=\"node\">\n<title>140441980764272*</title>\n<ellipse fill=\"none\" stroke=\"black\" cx=\"563\" cy=\"-155.5\" rx=\"27\" ry=\"18\"/>\n<text text-anchor=\"middle\" x=\"563\" y=\"-151.8\" font-family=\"Times,serif\" font-size=\"14.00\">*</text>\n</g>\n<!-- 140441980764272*&#45;&gt;140441980764272 -->\n<g id=\"edge4\" class=\"edge\">\n<title>140441980764272*&#45;&gt;140441980764272</title>\n<path fill=\"none\" stroke=\"black\" d=\"M590.21,-155.5C597.73,-155.5 606.43,-155.5 615.67,-155.5\"/>\n<polygon fill=\"black\" stroke=\"black\" points=\"615.89,-159 625.89,-155.5 615.89,-152 615.89,-159\"/>\n</g>\n<!-- 140441980764320 -->\n<g id=\"node10\" class=\"node\">\n<title>140441980764320</title>\n<polygon fill=\"none\" stroke=\"black\" points=\"315.5,-192.5 315.5,-228.5 497.5,-228.5 497.5,-192.5 315.5,-192.5\"/>\n<text text-anchor=\"middle\" x=\"325.5\" y=\"-206.8\" font-family=\"Times,serif\" font-size=\"14.00\"> </text>\n<polyline fill=\"none\" stroke=\"black\" points=\"335.5,-192.5 335.5,-228.5 \"/>\n<text text-anchor=\"middle\" x=\"375.5\" y=\"-206.8\" font-family=\"Times,serif\" font-size=\"14.00\">data 3.0000</text>\n<polyline fill=\"none\" stroke=\"black\" points=\"415.5,-192.5 415.5,-228.5 \"/>\n<text text-anchor=\"middle\" x=\"456.5\" y=\"-206.8\" font-family=\"Times,serif\" font-size=\"14.00\">grad 0.0000</text>\n</g>\n<!-- 140441980764320&#45;&gt;140441980764272* -->\n<g id=\"edge17\" class=\"edge\">\n<title>140441980764320&#45;&gt;140441980764272*</title>\n<path fill=\"none\" stroke=\"black\" d=\"M473.56,-192.45C482.51,-189.64 491.53,-186.63 500,-183.5 510.49,-179.62 521.71,-174.78 531.68,-170.22\"/>\n<polygon fill=\"black\" stroke=\"black\" points=\"533.2,-173.37 540.79,-165.97 530.25,-167.02 533.2,-173.37\"/>\n</g>\n<!-- 140441980760944 -->\n<g id=\"node11\" class=\"node\">\n<title>140441980760944</title>\n<polygon fill=\"none\" stroke=\"black\" points=\"313,-82.5 313,-118.5 500,-118.5 500,-82.5 313,-82.5\"/>\n<text text-anchor=\"middle\" x=\"323\" y=\"-96.8\" font-family=\"Times,serif\" font-size=\"14.00\"> </text>\n<polyline fill=\"none\" stroke=\"black\" points=\"333,-82.5 333,-118.5 \"/>\n<text text-anchor=\"middle\" x=\"375.5\" y=\"-96.8\" font-family=\"Times,serif\" font-size=\"14.00\">data &#45;0.4796</text>\n<polyline fill=\"none\" stroke=\"black\" points=\"418,-82.5 418,-118.5 \"/>\n<text text-anchor=\"middle\" x=\"459\" y=\"-96.8\" font-family=\"Times,serif\" font-size=\"14.00\">grad 0.0000</text>\n</g>\n<!-- 140441980760944&#45;&gt;140441980766096+ -->\n<g id=\"edge14\" class=\"edge\">\n<title>140441980760944&#45;&gt;140441980766096+</title>\n<path fill=\"none\" stroke=\"black\" d=\"M500.05,-100.5C509.06,-100.5 517.79,-100.5 525.7,-100.5\"/>\n<polygon fill=\"black\" stroke=\"black\" points=\"525.95,-104 535.95,-100.5 525.95,-97 525.95,-104\"/>\n</g>\n<!-- 140441980766432 -->\n<g id=\"node12\" class=\"node\">\n<title>140441980766432</title>\n<polygon fill=\"none\" stroke=\"black\" points=\"2.5,-0.5 2.5,-36.5 184.5,-36.5 184.5,-0.5 2.5,-0.5\"/>\n<text text-anchor=\"middle\" x=\"12.5\" y=\"-14.8\" font-family=\"Times,serif\" font-size=\"14.00\"> </text>\n<polyline fill=\"none\" stroke=\"black\" points=\"22.5,-0.5 22.5,-36.5 \"/>\n<text text-anchor=\"middle\" x=\"62.5\" y=\"-14.8\" font-family=\"Times,serif\" font-size=\"14.00\">data 2.0000</text>\n<polyline fill=\"none\" stroke=\"black\" points=\"102.5,-0.5 102.5,-36.5 \"/>\n<text text-anchor=\"middle\" x=\"143.5\" y=\"-14.8\" font-family=\"Times,serif\" font-size=\"14.00\">grad 0.0000</text>\n</g>\n<!-- 140441980766432&#45;&gt;140441980766720* -->\n<g id=\"edge8\" class=\"edge\">\n<title>140441980766432&#45;&gt;140441980766720*</title>\n<path fill=\"none\" stroke=\"black\" d=\"M184.82,-34.28C195.07,-36.08 205.01,-37.81 213.88,-39.36\"/>\n<polygon fill=\"black\" stroke=\"black\" points=\"213.3,-42.81 223.75,-41.09 214.5,-35.92 213.3,-42.81\"/>\n</g>\n<!-- 140441980767536 -->\n<g id=\"node13\" class=\"node\">\n<title>140441980767536</title>\n<polygon fill=\"none\" stroke=\"black\" points=\"1252,-164.5 1252,-200.5 1439,-200.5 1439,-164.5 1252,-164.5\"/>\n<text text-anchor=\"middle\" x=\"1262\" y=\"-178.8\" font-family=\"Times,serif\" font-size=\"14.00\"> </text>\n<polyline fill=\"none\" stroke=\"black\" points=\"1272,-164.5 1272,-200.5 \"/>\n<text text-anchor=\"middle\" x=\"1314.5\" y=\"-178.8\" font-family=\"Times,serif\" font-size=\"14.00\">data &#45;1.3903</text>\n<polyline fill=\"none\" stroke=\"black\" points=\"1357,-164.5 1357,-200.5 \"/>\n<text text-anchor=\"middle\" x=\"1398\" y=\"-178.8\" font-family=\"Times,serif\" font-size=\"14.00\">grad 0.0000</text>\n</g>\n<!-- 140441980767536&#45;&gt;140441980767344tanh -->\n<g id=\"edge18\" class=\"edge\">\n<title>140441980767536&#45;&gt;140441980767344tanh</title>\n<path fill=\"none\" stroke=\"black\" d=\"M1439.05,-182.5C1448.06,-182.5 1456.79,-182.5 1464.7,-182.5\"/>\n<polygon fill=\"black\" stroke=\"black\" points=\"1464.95,-186 1474.95,-182.5 1464.95,-179 1464.95,-186\"/>\n</g>\n<!-- 140441980767536+&#45;&gt;140441980767536 -->\n<g id=\"edge5\" class=\"edge\">\n<title>140441980767536+&#45;&gt;140441980767536</title>\n<path fill=\"none\" stroke=\"black\" d=\"M1216.21,-182.5C1223.73,-182.5 1232.43,-182.5 1241.67,-182.5\"/>\n<polygon fill=\"black\" stroke=\"black\" points=\"1241.89,-186 1251.89,-182.5 1241.89,-179 1241.89,-186\"/>\n</g>\n<!-- 140441980760896 -->\n<g id=\"node15\" class=\"node\">\n<title>140441980760896</title>\n<polygon fill=\"none\" stroke=\"black\" points=\"313,-137.5 313,-173.5 500,-173.5 500,-137.5 313,-137.5\"/>\n<text text-anchor=\"middle\" x=\"323\" y=\"-151.8\" font-family=\"Times,serif\" font-size=\"14.00\"> </text>\n<polyline fill=\"none\" stroke=\"black\" points=\"333,-137.5 333,-173.5 \"/>\n<text text-anchor=\"middle\" x=\"375.5\" y=\"-151.8\" font-family=\"Times,serif\" font-size=\"14.00\">data &#45;0.0485</text>\n<polyline fill=\"none\" stroke=\"black\" points=\"418,-137.5 418,-173.5 \"/>\n<text text-anchor=\"middle\" x=\"459\" y=\"-151.8\" font-family=\"Times,serif\" font-size=\"14.00\">grad 0.0000</text>\n</g>\n<!-- 140441980760896&#45;&gt;140441980764272* -->\n<g id=\"edge15\" class=\"edge\">\n<title>140441980760896&#45;&gt;140441980764272*</title>\n<path fill=\"none\" stroke=\"black\" d=\"M500.05,-155.5C509.06,-155.5 517.79,-155.5 525.7,-155.5\"/>\n<polygon fill=\"black\" stroke=\"black\" points=\"525.95,-159 535.95,-155.5 525.95,-152 525.95,-159\"/>\n</g>\n<!-- 140441980768112 -->\n<g id=\"node16\" class=\"node\">\n<title>140441980768112</title>\n<polygon fill=\"none\" stroke=\"black\" points=\"628.5,-247.5 628.5,-283.5 810.5,-283.5 810.5,-247.5 628.5,-247.5\"/>\n<text text-anchor=\"middle\" x=\"638.5\" y=\"-261.8\" font-family=\"Times,serif\" font-size=\"14.00\"> </text>\n<polyline fill=\"none\" stroke=\"black\" points=\"648.5,-247.5 648.5,-283.5 \"/>\n<text text-anchor=\"middle\" x=\"688.5\" y=\"-261.8\" font-family=\"Times,serif\" font-size=\"14.00\">data 0.5000</text>\n<polyline fill=\"none\" stroke=\"black\" points=\"728.5,-247.5 728.5,-283.5 \"/>\n<text text-anchor=\"middle\" x=\"769.5\" y=\"-261.8\" font-family=\"Times,serif\" font-size=\"14.00\">grad 0.0000</text>\n</g>\n<!-- 140441980767104* -->\n<g id=\"node18\" class=\"node\">\n<title>140441980767104*</title>\n<ellipse fill=\"none\" stroke=\"black\" cx=\"876\" cy=\"-210.5\" rx=\"27\" ry=\"18\"/>\n<text text-anchor=\"middle\" x=\"876\" y=\"-206.8\" font-family=\"Times,serif\" font-size=\"14.00\">*</text>\n</g>\n<!-- 140441980768112&#45;&gt;140441980767104* -->\n<g id=\"edge16\" class=\"edge\">\n<title>140441980768112&#45;&gt;140441980767104*</title>\n<path fill=\"none\" stroke=\"black\" d=\"M786.56,-247.45C795.51,-244.64 804.53,-241.63 813,-238.5 823.49,-234.62 834.71,-229.78 844.68,-225.22\"/>\n<polygon fill=\"black\" stroke=\"black\" points=\"846.2,-228.37 853.79,-220.97 843.25,-222.02 846.2,-228.37\"/>\n</g>\n<!-- 140441980767104 -->\n<g id=\"node17\" class=\"node\">\n<title>140441980767104</title>\n<polygon fill=\"none\" stroke=\"black\" points=\"941.5,-192.5 941.5,-228.5 1123.5,-228.5 1123.5,-192.5 941.5,-192.5\"/>\n<text text-anchor=\"middle\" x=\"951.5\" y=\"-206.8\" font-family=\"Times,serif\" font-size=\"14.00\"> </text>\n<polyline fill=\"none\" stroke=\"black\" points=\"961.5,-192.5 961.5,-228.5 \"/>\n<text text-anchor=\"middle\" x=\"1001.5\" y=\"-206.8\" font-family=\"Times,serif\" font-size=\"14.00\">data 0.2433</text>\n<polyline fill=\"none\" stroke=\"black\" points=\"1041.5,-192.5 1041.5,-228.5 \"/>\n<text text-anchor=\"middle\" x=\"1082.5\" y=\"-206.8\" font-family=\"Times,serif\" font-size=\"14.00\">grad 0.0000</text>\n</g>\n<!-- 140441980767104&#45;&gt;140441980767536+ -->\n<g id=\"edge19\" class=\"edge\">\n<title>140441980767104&#45;&gt;140441980767536+</title>\n<path fill=\"none\" stroke=\"black\" d=\"M1123.82,-194.13C1134.07,-192.27 1144.01,-190.47 1152.88,-188.87\"/>\n<polygon fill=\"black\" stroke=\"black\" points=\"1153.54,-192.3 1162.75,-187.08 1152.29,-185.42 1153.54,-192.3\"/>\n</g>\n<!-- 140441980767104*&#45;&gt;140441980767104 -->\n<g id=\"edge6\" class=\"edge\">\n<title>140441980767104*&#45;&gt;140441980767104</title>\n<path fill=\"none\" stroke=\"black\" d=\"M903.21,-210.5C911.34,-210.5 920.85,-210.5 930.94,-210.5\"/>\n<polygon fill=\"black\" stroke=\"black\" points=\"931.19,-214 941.19,-210.5 931.19,-207 931.19,-214\"/>\n</g>\n<!-- 140441980766096 -->\n<g id=\"node19\" class=\"node\">\n<title>140441980766096</title>\n<polygon fill=\"none\" stroke=\"black\" points=\"626,-82.5 626,-118.5 813,-118.5 813,-82.5 626,-82.5\"/>\n<text text-anchor=\"middle\" x=\"636\" y=\"-96.8\" font-family=\"Times,serif\" font-size=\"14.00\"> </text>\n<polyline fill=\"none\" stroke=\"black\" points=\"646,-82.5 646,-118.5 \"/>\n<text text-anchor=\"middle\" x=\"688.5\" y=\"-96.8\" font-family=\"Times,serif\" font-size=\"14.00\">data &#45;1.4881</text>\n<polyline fill=\"none\" stroke=\"black\" points=\"731,-82.5 731,-118.5 \"/>\n<text text-anchor=\"middle\" x=\"772\" y=\"-96.8\" font-family=\"Times,serif\" font-size=\"14.00\">grad 0.0000</text>\n</g>\n<!-- 140441980766096&#45;&gt;140441980765232+ -->\n<g id=\"edge20\" class=\"edge\">\n<title>140441980766096&#45;&gt;140441980765232+</title>\n<path fill=\"none\" stroke=\"black\" d=\"M784.02,-118.65C793.79,-121.76 803.71,-125.08 813,-128.5 823.25,-132.27 834.23,-136.86 844.07,-141.18\"/>\n<polygon fill=\"black\" stroke=\"black\" points=\"842.89,-144.49 853.45,-145.37 845.74,-138.1 842.89,-144.49\"/>\n</g>\n<!-- 140441980766096+&#45;&gt;140441980766096 -->\n<g id=\"edge7\" class=\"edge\">\n<title>140441980766096+&#45;&gt;140441980766096</title>\n<path fill=\"none\" stroke=\"black\" d=\"M590.21,-100.5C597.73,-100.5 606.43,-100.5 615.67,-100.5\"/>\n<polygon fill=\"black\" stroke=\"black\" points=\"615.89,-104 625.89,-100.5 615.89,-97 615.89,-104\"/>\n</g>\n<!-- 140441980764112 -->\n<g id=\"node21\" class=\"node\">\n<title>140441980764112</title>\n<polygon fill=\"none\" stroke=\"black\" points=\"628.5,-192.5 628.5,-228.5 810.5,-228.5 810.5,-192.5 628.5,-192.5\"/>\n<text text-anchor=\"middle\" x=\"638.5\" y=\"-206.8\" font-family=\"Times,serif\" font-size=\"14.00\"> </text>\n<polyline fill=\"none\" stroke=\"black\" points=\"648.5,-192.5 648.5,-228.5 \"/>\n<text text-anchor=\"middle\" x=\"688.5\" y=\"-206.8\" font-family=\"Times,serif\" font-size=\"14.00\">data 0.4866</text>\n<polyline fill=\"none\" stroke=\"black\" points=\"728.5,-192.5 728.5,-228.5 \"/>\n<text text-anchor=\"middle\" x=\"769.5\" y=\"-206.8\" font-family=\"Times,serif\" font-size=\"14.00\">grad 0.0000</text>\n</g>\n<!-- 140441980764112&#45;&gt;140441980767104* -->\n<g id=\"edge13\" class=\"edge\">\n<title>140441980764112&#45;&gt;140441980767104*</title>\n<path fill=\"none\" stroke=\"black\" d=\"M810.82,-210.5C820.57,-210.5 830.04,-210.5 838.57,-210.5\"/>\n<polygon fill=\"black\" stroke=\"black\" points=\"838.83,-214 848.83,-210.5 838.83,-207 838.83,-214\"/>\n</g>\n</g>\n</svg>\n",
      "text/plain": [
       "<graphviz.graphs.Digraph at 0x7fbb32600b20>"
      ]
     },
     "execution_count": 26,
     "metadata": {},
     "output_type": "execute_result"
    }
   ],
   "source": [
    "draw_dot(n(x))"
   ]
  }
 ],
 "metadata": {
  "kernelspec": {
   "display_name": "conda_venv",
   "language": "python",
   "name": "python3"
  },
  "language_info": {
   "codemirror_mode": {
    "name": "ipython",
    "version": 3
   },
   "file_extension": ".py",
   "mimetype": "text/x-python",
   "name": "python",
   "nbconvert_exporter": "python",
   "pygments_lexer": "ipython3",
   "version": "3.9.13 (main, Aug 25 2022, 18:29:29) \n[Clang 12.0.0 ]"
  },
  "orig_nbformat": 4,
  "vscode": {
   "interpreter": {
    "hash": "f8df1972416f84f6ed20f31ba7c5c991abbeebe26c9421a706f6b4896e296a09"
   }
  }
 },
 "nbformat": 4,
 "nbformat_minor": 2
}
